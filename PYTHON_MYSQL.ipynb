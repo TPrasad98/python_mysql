{
 "cells": [
  {
   "attachments": {
    "Mysql-python.png": {
     "image/png": "[encoded data removed]"
    }
   },
   "cell_type": "markdown",
   "id": "c9a357b6",
   "metadata": {},
   "source": [
    "![Mysql-python.png](attachment:Mysql-python.png)"
   ]
  },
  {
   "cell_type": "markdown",
   "id": "242034a4",
   "metadata": {},
   "source": [
    "# Python Mysql\n",
    "\n",
    "\n",
    "     MySQL is a Relational Database Management System (RDBMS) whereas the structured Query Language (SQL) is the language used for handling the RDBMS using commands i.e Creating, Inserting, Updating and Deleting the data from the databases.\n",
    "    A connector is employed when we have to use MySQL with other programming languages. The work of mysql-connector is to provide access to MySQL Driver to the required language. Thus, it generates a connection between the programming language and the MySQL Server.\n",
    "     \n",
    "     \n",
    "     Python can be used in database applications.\n",
    "     \n",
    "     \n",
    "# Install MySQL Driver\n",
    "    Python needs a MySQL driver to access the MySQL database.\n",
    "\n",
    "   \n",
    "    \n",
    "   ## \"pip3 install mysql-connector-python\"\n",
    "\n"
   ]
  },
  {
   "cell_type": "code",
   "execution_count": 1,
   "id": "7e85046f",
   "metadata": {},
   "outputs": [
    {
     "name": "stdout",
     "output_type": "stream",
     "text": [
      "Requirement already satisfied: mysql-connector-python in /Users/tariniprasaddas/anaconda3/lib/python3.11/site-packages (8.2.0)\r\n",
      "Requirement already satisfied: protobuf<=4.21.12,>=4.21.1 in /Users/tariniprasaddas/anaconda3/lib/python3.11/site-packages (from mysql-connector-python) (4.21.12)\r\n"
     ]
    }
   ],
   "source": [
    "!pip install mysql-connector-python"
   ]
  },
  {
   "cell_type": "markdown",
   "id": "356d77c8",
   "metadata": {},
   "source": [
    "# Test MySql Connector\n",
    " \n",
    " \n",
    " \n",
    "     To test if the installation was successful, or if you already have \"MySQL Connector\" installed, create a Python page with the following content:"
   ]
  },
  {
   "cell_type": "code",
   "execution_count": 2,
   "id": "1ba32b18",
   "metadata": {},
   "outputs": [],
   "source": [
    "import mysql.connector"
   ]
  },
  {
   "cell_type": "markdown",
   "id": "f108c605",
   "metadata": {},
   "source": [
    "# Create Connection :\n",
    " \n",
    "\n",
    "    Start by creating a connection to the database.\n",
    "\n",
    "    Use the username and password from your MySQL database:"
   ]
  },
  {
   "cell_type": "code",
   "execution_count": 3,
   "id": "7e355957",
   "metadata": {},
   "outputs": [
    {
     "name": "stdout",
     "output_type": "stream",
     "text": [
      "<mysql.connector.connection_cext.CMySQLConnection object at 0x105e82990>\n"
     ]
    }
   ],
   "source": [
    "mydb=mysql.connector.connect(host=\"localhost\",user='root',password='Kanha@8144')\n",
    "\n",
    "print(mydb)\n"
   ]
  },
  {
   "cell_type": "markdown",
   "id": "a39a8c37",
   "metadata": {},
   "source": [
    "## Creating Cursor\n",
    " \n",
    " \n",
    "     The MySQLCursor of mysql-connector-python (and similar libraries) is used to execute statements to communicate with the MySQL database. Using the methods of it you can execute SQL statements, fetch data from the result sets, call procedures."
   ]
  },
  {
   "cell_type": "code",
   "execution_count": 4,
   "id": "7be5b82c",
   "metadata": {},
   "outputs": [],
   "source": [
    "cursor=mydb.cursor()"
   ]
  },
  {
   "cell_type": "markdown",
   "id": "84785267",
   "metadata": {},
   "source": [
    "**Now you can start querying the database using SQL statements.**\n",
    "\n",
    "# Creating Database\n",
    "\n",
    "\n",
    "    To create a database in MySQL, use the \"CREATE DATABASE\" statement:"
   ]
  },
  {
   "cell_type": "code",
   "execution_count": 46,
   "id": "c4138ebb",
   "metadata": {},
   "outputs": [],
   "source": [
    "cursor.execute(\"CREATE DATABASE IF NOT EXISTS mydatabase\")"
   ]
  },
  {
   "cell_type": "markdown",
   "id": "1c4faace",
   "metadata": {},
   "source": [
    "**If the above code was executed with no errors, you have successfully created a database.**\n",
    "\n",
    "# Check if Database Exists\n",
    "    You can check if a database exist by listing all databases in your system by using the \"SHOW DATABASES\" statement:"
   ]
  },
  {
   "cell_type": "code",
   "execution_count": 47,
   "id": "34f53de4",
   "metadata": {},
   "outputs": [
    {
     "data": {
      "text/plain": [
       "[('cardataset',),\n",
       " ('information_schema',),\n",
       " ('mydatabase',),\n",
       " ('mysql',),\n",
       " ('performance_schema',),\n",
       " ('practicedb',),\n",
       " ('students',),\n",
       " ('students1',),\n",
       " ('sys',)]"
      ]
     },
     "execution_count": 47,
     "metadata": {},
     "output_type": "execute_result"
    }
   ],
   "source": [
    "cursor.execute(\"SHOW DATABASES\")\n",
    "\n",
    "cursor.fetchall()"
   ]
  },
  {
   "cell_type": "markdown",
   "id": "ecf3f72c",
   "metadata": {},
   "source": [
    "# Creating Table\n",
    "\n",
    "    To create a table in MySQL, use the \"CREATE TABLE\" statement.\n",
    "\n",
    "    Make sure you define the name of the database when you create the table"
   ]
  },
  {
   "cell_type": "code",
   "execution_count": 49,
   "id": "73eccf73",
   "metadata": {},
   "outputs": [],
   "source": [
    "cursor.execute(\" CREATE TABLE IF NOT EXISTS mydatabase.customers(name VARCHAR(255), address VARCHAR(255))\")"
   ]
  },
  {
   "cell_type": "markdown",
   "id": "6efc92e9",
   "metadata": {},
   "source": [
    "# Check if Table Exists\n",
    "    You can check if a table exist by listing all tables in your database with the \"SHOW TABLES\" statement:\n",
    "\n"
   ]
  },
  {
   "cell_type": "code",
   "execution_count": 50,
   "id": "6a58f1c2",
   "metadata": {},
   "outputs": [
    {
     "data": {
      "text/plain": [
       "[('customers',), ('departments',), ('employees',)]"
      ]
     },
     "execution_count": 50,
     "metadata": {},
     "output_type": "execute_result"
    }
   ],
   "source": [
    "import mysql.connector\n",
    "\n",
    "mydb = mysql.connector.connect(\n",
    "  host=\"localhost\",\n",
    "  user=\"root\",\n",
    "  password=\"Kanha@8144\",\n",
    "  database=\"mydatabase\"\n",
    ")\n",
    "\n",
    "cursor = mydb.cursor()\n",
    "\n",
    "cursor.execute(\"SHOW TABLES\")\n",
    "cursor.fetchall()"
   ]
  },
  {
   "cell_type": "markdown",
   "id": "95007028",
   "metadata": {},
   "source": [
    "**Or we can perform this way also**"
   ]
  },
  {
   "cell_type": "code",
   "execution_count": 51,
   "id": "e51ccbae",
   "metadata": {},
   "outputs": [
    {
     "data": {
      "text/plain": [
       "[('customers',), ('departments',), ('employees',)]"
      ]
     },
     "execution_count": 51,
     "metadata": {},
     "output_type": "execute_result"
    }
   ],
   "source": [
    "cursor.execute(\"USE mydatabase \")\n",
    "cursor.execute(\"SHOW TABLES\")\n",
    "cursor.fetchall()"
   ]
  },
  {
   "cell_type": "markdown",
   "id": "c36eb48c",
   "metadata": {},
   "source": [
    "# Primary Key\n",
    "    When creating a table, you should also create a column with a unique key for each record.\n",
    "\n",
    "    This can be done by defining a PRIMARY KEY.\n",
    "\n",
    "    We use the statement \"INT AUTO_INCREMENT PRIMARY KEY\" which will insert a unique number for each record. Starting at 1, and increased by one for each record.\n",
    "\n"
   ]
  },
  {
   "cell_type": "code",
   "execution_count": 53,
   "id": "a2aaf95f",
   "metadata": {},
   "outputs": [],
   "source": [
    "import mysql.connector\n",
    "\n",
    "mydb = mysql.connector.connect(\n",
    "  host=\"localhost\",\n",
    "  user=\"root\",\n",
    "  password=\"Kanha@8144\",\n",
    "  database=\"mydatabase\"\n",
    ")\n",
    "\n",
    "cursor = mydb.cursor()\n",
    "cursor.execute(\"CREATE TABLE IF NOT EXISTS customers (id INT AUTO_INCREMENT PRIMARY KEY, name VARCHAR(255), address VARCHAR(255))\")"
   ]
  },
  {
   "cell_type": "markdown",
   "id": "ca1ef705",
   "metadata": {},
   "source": [
    "**If the table already exists, use the ALTER TABLE keyword:**"
   ]
  },
  {
   "cell_type": "code",
   "execution_count": 55,
   "id": "e780bc76",
   "metadata": {},
   "outputs": [],
   "source": [
    "#cursor.execute(\"ALTER TABLE  customers ADD COLUMN id INT AUTO_INCREMENT PRIMARY KEY\")"
   ]
  },
  {
   "cell_type": "markdown",
   "id": "dbad0f8d",
   "metadata": {},
   "source": [
    "# Insert Into Table\n",
    "    To fill a table in MySQL, use the \"INSERT INTO\" statement."
   ]
  },
  {
   "cell_type": "code",
   "execution_count": 12,
   "id": "e8f499fe",
   "metadata": {},
   "outputs": [],
   "source": [
    "query=\"INSERT INTO customers (name,address) VALUES (%s,%s)\"\n",
    "val=('Prasad','CDA 5')\n",
    "\n",
    "cursor.execute(query,val)"
   ]
  },
  {
   "cell_type": "markdown",
   "id": "9656f612",
   "metadata": {},
   "source": [
    "**we can also write the querry this way using f string**\n",
    "\n",
    "name = 'Prasad'\n",
    "address = 'CDA 5'\n",
    "\n",
    "query = f\"INSERT INTO customers (name, address) VALUES ('{name}', '{address}')\"\n",
    "\n",
    "cursor.execute(query)\n",
    "\n",
    "**or**\n",
    "\n",
    "cursor.execute(\"INSERT INTO customers (name, address) VALUES (%s, %s)\", ('Prasad', 'CDA 5'))\n",
    "\n"
   ]
  },
  {
   "cell_type": "code",
   "execution_count": 13,
   "id": "6b1eb245",
   "metadata": {},
   "outputs": [],
   "source": [
    "mydb.commit()"
   ]
  },
  {
   "cell_type": "code",
   "execution_count": 14,
   "id": "2b7fada5",
   "metadata": {},
   "outputs": [
    {
     "name": "stdout",
     "output_type": "stream",
     "text": [
      "1 record inserted.\n"
     ]
    }
   ],
   "source": [
    "print(cursor.rowcount, \"record inserted.\")\n"
   ]
  },
  {
   "cell_type": "code",
   "execution_count": 15,
   "id": "511ee385",
   "metadata": {},
   "outputs": [
    {
     "data": {
      "text/plain": [
       "[('Prasad', 'CDA 5', 1)]"
      ]
     },
     "execution_count": 15,
     "metadata": {},
     "output_type": "execute_result"
    }
   ],
   "source": [
    "cursor.execute(\"SELECT * FROM customers\")\n",
    "cursor.fetchall()"
   ]
  },
  {
   "cell_type": "markdown",
   "id": "d3456b42",
   "metadata": {},
   "source": [
    "**Important!: Notice the statement: mydb.commit(). It is required to make the changes, otherwise no changes are made to the table.**\n",
    "\n",
    "\n",
    "# Insert Multiple Rows\n",
    "    To insert multiple rows into a table, use the executemany() method.\n",
    "\n",
    "    The second parameter of the executemany() method is a list of tuples, containing the data you want to insert:"
   ]
  },
  {
   "cell_type": "code",
   "execution_count": 16,
   "id": "159c176f",
   "metadata": {},
   "outputs": [],
   "source": [
    "query = \"INSERT INTO customers (name, address) VALUES (%s, %s)\"\n",
    "val = [\n",
    "  ('Peter', 'Lowstreet 4'),\n",
    "  ('Amy', 'Apple st 652'),\n",
    "  ('Hannah', 'Mountain 21'),\n",
    "  ('Michael', 'Valley 345'),\n",
    "  ('Sandy', 'Ocean blvd 2'),\n",
    "  ('Betty', 'Green Grass 1'),\n",
    "  ('Richard', 'Sky st 331'),\n",
    "  ('Susan', 'One way 98'),\n",
    "  ('Vicky', 'Yellow Garden 2'),\n",
    "  ('Ben', 'Park Lane 38'),\n",
    "  ('William', 'Central st 954'),\n",
    "  ('Chuck', 'Main Road 989'),\n",
    "  ('Viola', 'Sideway 1633')\n",
    "]\n",
    "\n",
    "cursor.executemany(query, val)\n",
    "mydb.commit()"
   ]
  },
  {
   "cell_type": "code",
   "execution_count": 17,
   "id": "9e1ce5ab",
   "metadata": {},
   "outputs": [
    {
     "name": "stdout",
     "output_type": "stream",
     "text": [
      "13 rows inserted.\n"
     ]
    }
   ],
   "source": [
    "print(cursor.rowcount, \"rows inserted.\")"
   ]
  },
  {
   "cell_type": "code",
   "execution_count": 18,
   "id": "d746898d",
   "metadata": {},
   "outputs": [
    {
     "data": {
      "text/plain": [
       "[('Prasad', 'CDA 5', 1),\n",
       " ('Peter', 'Lowstreet 4', 2),\n",
       " ('Amy', 'Apple st 652', 3),\n",
       " ('Hannah', 'Mountain 21', 4),\n",
       " ('Michael', 'Valley 345', 5),\n",
       " ('Sandy', 'Ocean blvd 2', 6),\n",
       " ('Betty', 'Green Grass 1', 7),\n",
       " ('Richard', 'Sky st 331', 8),\n",
       " ('Susan', 'One way 98', 9),\n",
       " ('Vicky', 'Yellow Garden 2', 10),\n",
       " ('Ben', 'Park Lane 38', 11),\n",
       " ('William', 'Central st 954', 12),\n",
       " ('Chuck', 'Main Road 989', 13),\n",
       " ('Viola', 'Sideway 1633', 14)]"
      ]
     },
     "execution_count": 18,
     "metadata": {},
     "output_type": "execute_result"
    }
   ],
   "source": [
    "cursor.execute(\"SELECT * FROM customers\")\n",
    "cursor.fetchall()"
   ]
  },
  {
   "cell_type": "markdown",
   "id": "b3380c64",
   "metadata": {},
   "source": [
    "# Get Inserted ID\n",
    "    You can get the id of the row you just inserted by asking the cursor object.\n",
    "\n",
    " **Note: If you insert more than one row, the id of the last inserted row is returned.**"
   ]
  },
  {
   "cell_type": "code",
   "execution_count": 24,
   "id": "5ecc9730",
   "metadata": {},
   "outputs": [],
   "source": [
    "# List of tuples with values for multiple rows\n",
    "values = [\n",
    "    ('Alice', '123 Main St'),\n",
    "    ('Bob', '456 Elm St'),\n",
    "    ('Charlie', '789 Oak St')\n",
    "]\n",
    "\n",
    "# SQL query with multiple value sets\n",
    "query = \"INSERT INTO customers (name, address) VALUES (%s, %s)\"\n",
    "\n",
    "cursor.executemany(query, values)\n"
   ]
  },
  {
   "cell_type": "code",
   "execution_count": 26,
   "id": "e6db2f15",
   "metadata": {},
   "outputs": [
    {
     "name": "stdout",
     "output_type": "stream",
     "text": [
      "last record inserted, ID: 15\n"
     ]
    }
   ],
   "source": [
    "print(\"last record inserted, ID:\", cursor.lastrowid)"
   ]
  },
  {
   "cell_type": "code",
   "execution_count": 27,
   "id": "d812c47b",
   "metadata": {},
   "outputs": [
    {
     "data": {
      "text/plain": [
       "[('Prasad', 'CDA 5', 1),\n",
       " ('Peter', 'Lowstreet 4', 2),\n",
       " ('Amy', 'Apple st 652', 3),\n",
       " ('Hannah', 'Mountain 21', 4),\n",
       " ('Michael', 'Valley 345', 5),\n",
       " ('Sandy', 'Ocean blvd 2', 6),\n",
       " ('Betty', 'Green Grass 1', 7),\n",
       " ('Richard', 'Sky st 331', 8),\n",
       " ('Susan', 'One way 98', 9),\n",
       " ('Vicky', 'Yellow Garden 2', 10),\n",
       " ('Ben', 'Park Lane 38', 11),\n",
       " ('William', 'Central st 954', 12),\n",
       " ('Chuck', 'Main Road 989', 13),\n",
       " ('Viola', 'Sideway 1633', 14),\n",
       " ('Alice', '123 Main St', 15),\n",
       " ('Bob', '456 Elm St', 16),\n",
       " ('Charlie', '789 Oak St', 17)]"
      ]
     },
     "execution_count": 27,
     "metadata": {},
     "output_type": "execute_result"
    }
   ],
   "source": [
    "cursor.execute(\"SELECT * FROM customers\")\n",
    "cursor.fetchall()"
   ]
  },
  {
   "cell_type": "markdown",
   "id": "589f6b08",
   "metadata": {},
   "source": [
    "# Select From a Table\n",
    "    To select from a table in MySQL, use the \"SELECT\" statement:\n",
    "\n"
   ]
  },
  {
   "cell_type": "code",
   "execution_count": 29,
   "id": "76940427",
   "metadata": {},
   "outputs": [
    {
     "data": {
      "text/plain": [
       "[('Prasad', 'CDA 5', 1),\n",
       " ('Peter', 'Lowstreet 4', 2),\n",
       " ('Amy', 'Apple st 652', 3),\n",
       " ('Hannah', 'Mountain 21', 4),\n",
       " ('Michael', 'Valley 345', 5),\n",
       " ('Sandy', 'Ocean blvd 2', 6),\n",
       " ('Betty', 'Green Grass 1', 7),\n",
       " ('Richard', 'Sky st 331', 8),\n",
       " ('Susan', 'One way 98', 9),\n",
       " ('Vicky', 'Yellow Garden 2', 10),\n",
       " ('Ben', 'Park Lane 38', 11),\n",
       " ('William', 'Central st 954', 12),\n",
       " ('Chuck', 'Main Road 989', 13),\n",
       " ('Viola', 'Sideway 1633', 14),\n",
       " ('Alice', '123 Main St', 15),\n",
       " ('Bob', '456 Elm St', 16),\n",
       " ('Charlie', '789 Oak St', 17)]"
      ]
     },
     "execution_count": 29,
     "metadata": {},
     "output_type": "execute_result"
    }
   ],
   "source": [
    "cursor.execute(\"SELECT * FROM customers\")\n",
    "cursor.fetchall()"
   ]
  },
  {
   "cell_type": "markdown",
   "id": "7b09715a",
   "metadata": {},
   "source": [
    "**Note: We use the fetchall() method, which fetches all rows from the last executed statement.**"
   ]
  },
  {
   "cell_type": "markdown",
   "id": "1f839b91",
   "metadata": {},
   "source": [
    "# Selecting Columns\n",
    "\n",
    "    To select only some of the columns in a table, use the \"SELECT\" statement followed by the column name(s):"
   ]
  },
  {
   "cell_type": "code",
   "execution_count": 31,
   "id": "2dda7c11",
   "metadata": {},
   "outputs": [
    {
     "data": {
      "text/plain": [
       "[('Prasad', 'CDA 5'),\n",
       " ('Peter', 'Lowstreet 4'),\n",
       " ('Amy', 'Apple st 652'),\n",
       " ('Hannah', 'Mountain 21'),\n",
       " ('Michael', 'Valley 345'),\n",
       " ('Sandy', 'Ocean blvd 2'),\n",
       " ('Betty', 'Green Grass 1'),\n",
       " ('Richard', 'Sky st 331'),\n",
       " ('Susan', 'One way 98'),\n",
       " ('Vicky', 'Yellow Garden 2'),\n",
       " ('Ben', 'Park Lane 38'),\n",
       " ('William', 'Central st 954'),\n",
       " ('Chuck', 'Main Road 989'),\n",
       " ('Viola', 'Sideway 1633'),\n",
       " ('Alice', '123 Main St'),\n",
       " ('Bob', '456 Elm St'),\n",
       " ('Charlie', '789 Oak St')]"
      ]
     },
     "execution_count": 31,
     "metadata": {},
     "output_type": "execute_result"
    }
   ],
   "source": [
    "cursor.execute(\"SELECT name,address FROM customers\")\n",
    "cursor.fetchall()"
   ]
  },
  {
   "cell_type": "markdown",
   "id": "97d67631",
   "metadata": {},
   "source": [
    "# Select row Using the fetchone() Method\n",
    "    If you are only interested in one row, you can use the fetchone() method.\n",
    "\n",
    "    The fetchone() method will return the first row of the result:"
   ]
  },
  {
   "cell_type": "code",
   "execution_count": 32,
   "id": "b45f9da7",
   "metadata": {},
   "outputs": [
    {
     "data": {
      "text/plain": [
       "('Prasad', 'CDA 5', 1)"
      ]
     },
     "execution_count": 32,
     "metadata": {},
     "output_type": "execute_result"
    }
   ],
   "source": [
    "cursor.execute(\"SELECT * FROM customers\")\n",
    "cursor.fetchone()"
   ]
  },
  {
   "cell_type": "code",
   "execution_count": 36,
   "id": "64a325e1",
   "metadata": {},
   "outputs": [
    {
     "data": {
      "text/plain": [
       "[('Richard', 'Sky st 331', 8)]"
      ]
     },
     "execution_count": 36,
     "metadata": {},
     "output_type": "execute_result"
    }
   ],
   "source": [
    "cursor.fetchmany()"
   ]
  },
  {
   "cell_type": "code",
   "execution_count": 39,
   "id": "1cbc29e9",
   "metadata": {},
   "outputs": [
    {
     "data": {
      "text/plain": [
       "[('Richard', 'Sky st 331', 8),\n",
       " ('Susan', 'One way 98', 9),\n",
       " ('Vicky', 'Yellow Garden 2', 10),\n",
       " ('Ben', 'Park Lane 38', 11),\n",
       " ('William', 'Central st 954', 12)]"
      ]
     },
     "execution_count": 39,
     "metadata": {},
     "output_type": "execute_result"
    }
   ],
   "source": [
    "cursor.fetchmany(5)"
   ]
  },
  {
   "cell_type": "markdown",
   "id": "89b9ad81",
   "metadata": {},
   "source": [
    "# Select With a Filter\n",
    "    When selecting records from a table, you can filter the selection by using the \"WHERE\" statement:"
   ]
  },
  {
   "cell_type": "code",
   "execution_count": 41,
   "id": "448c747d",
   "metadata": {},
   "outputs": [
    {
     "data": {
      "text/plain": [
       "[('Ben', 'Park Lane 38', 11)]"
      ]
     },
     "execution_count": 41,
     "metadata": {},
     "output_type": "execute_result"
    }
   ],
   "source": [
    "import mysql.connector\n",
    "\n",
    "mydb = mysql.connector.connect(\n",
    "  host=\"localhost\",\n",
    "  user=\"root\",\n",
    "  password=\"Kanha@8144\",\n",
    "  database=\"mydatabase\"\n",
    ")\n",
    "\n",
    "cursor = mydb.cursor()\n",
    "\n",
    "\n",
    "\n",
    "\n",
    "query= \"SELECT * FROM customers WHERE address ='Park Lane 38'\"\n",
    "\n",
    "cursor.execute(query)\n",
    "\n",
    "cursor.fetchall()"
   ]
  },
  {
   "cell_type": "markdown",
   "id": "aeac8918",
   "metadata": {},
   "source": [
    "# Wildcard Characters\n",
    "    You can also select the records that starts, includes, or ends with a given letter or phrase.\n",
    "\n",
    "    Use the %  to represent wildcard characters:"
   ]
  },
  {
   "cell_type": "code",
   "execution_count": 42,
   "id": "88e6e5ce",
   "metadata": {},
   "outputs": [
    {
     "data": {
      "text/plain": [
       "[('Susan', 'One way 98', 9), ('Viola', 'Sideway 1633', 14)]"
      ]
     },
     "execution_count": 42,
     "metadata": {},
     "output_type": "execute_result"
    }
   ],
   "source": [
    "sql = \"SELECT * FROM customers WHERE address LIKE '%way%'\"\n",
    "\n",
    "cursor.execute(sql)\n",
    "\n",
    "cursor.fetchall()"
   ]
  },
  {
   "cell_type": "code",
   "execution_count": 46,
   "id": "7e5aa70f",
   "metadata": {},
   "outputs": [
    {
     "data": {
      "text/plain": [
       "[('Betty', 'Green Grass 1', 7)]"
      ]
     },
     "execution_count": 46,
     "metadata": {},
     "output_type": "execute_result"
    }
   ],
   "source": [
    "sql = \"SELECT * FROM customers WHERE address LIKE 'Green%' \"\n",
    "\n",
    "cursor.execute(sql)\n",
    "\n",
    "cursor.fetchall()"
   ]
  },
  {
   "cell_type": "code",
   "execution_count": 47,
   "id": "308008fe",
   "metadata": {},
   "outputs": [
    {
     "data": {
      "text/plain": [
       "[('Vicky', 'Yellow Garden 2', 10)]"
      ]
     },
     "execution_count": 47,
     "metadata": {},
     "output_type": "execute_result"
    }
   ],
   "source": [
    "sql = \"SELECT * FROM customers WHERE address LIKE '%Garden 2'\"\n",
    "\n",
    "cursor.execute(sql)\n",
    "\n",
    "cursor.fetchall()"
   ]
  },
  {
   "cell_type": "code",
   "execution_count": 48,
   "id": "4706d347",
   "metadata": {},
   "outputs": [
    {
     "data": {
      "text/plain": [
       "[('Vicky', 'Yellow Garden 2', 10)]"
      ]
     },
     "execution_count": 48,
     "metadata": {},
     "output_type": "execute_result"
    }
   ],
   "source": [
    "sql = \"SELECT * FROM customers WHERE address LIKE '%Garden%'\"\n",
    "\n",
    "cursor.execute(sql)\n",
    "\n",
    "cursor.fetchall()"
   ]
  },
  {
   "cell_type": "markdown",
   "id": "ca05ad5f",
   "metadata": {},
   "source": [
    "# Prevent SQL Injection\n",
    "    When query values are provided by the user, you should escape the values.\n",
    "\n",
    "    This is to prevent SQL injections, which is a common web hacking technique to destroy or misuse your database.\n",
    "\n",
    "    The mysql.connector module has methods to escape query values:\n",
    "\n"
   ]
  },
  {
   "cell_type": "code",
   "execution_count": 51,
   "id": "43d7a1f4",
   "metadata": {},
   "outputs": [
    {
     "data": {
      "text/plain": [
       "[('Vicky', 'Yellow Garden 2', 10)]"
      ]
     },
     "execution_count": 51,
     "metadata": {},
     "output_type": "execute_result"
    }
   ],
   "source": [
    "import mysql.connector\n",
    "\n",
    "mydb = mysql.connector.connect(\n",
    "  host=\"localhost\",\n",
    "  user=\"root\",\n",
    "  password=\"Kanha@8144\",\n",
    "  database=\"mydatabase\"\n",
    ")\n",
    "\n",
    "cursor = mydb.cursor()\n",
    "\n",
    "sql = \"SELECT * FROM customers WHERE address = %s\"\n",
    "adr = (\"Yellow Garden 2\", )\n",
    "\n",
    "cursor.execute(sql, adr)\n",
    "\n",
    "cursor.fetchall()"
   ]
  },
  {
   "cell_type": "code",
   "execution_count": 52,
   "id": "75722eff",
   "metadata": {},
   "outputs": [
    {
     "data": {
      "text/plain": [
       "[('Susan', 'One way 98', 9)]"
      ]
     },
     "execution_count": 52,
     "metadata": {},
     "output_type": "execute_result"
    }
   ],
   "source": [
    "import mysql.connector\n",
    "\n",
    "mydb = mysql.connector.connect(\n",
    "  host=\"localhost\",\n",
    "  user=\"root\",\n",
    "  password=\"Kanha@8144\",\n",
    "  database=\"mydatabase\"\n",
    ")\n",
    "\n",
    "cursor = mydb.cursor()\n",
    "\n",
    "sql = \"SELECT * FROM customers WHERE address = %s\"\n",
    "adr = (\"One way 98\", )\n",
    "\n",
    "cursor.execute(sql, adr)\n",
    "\n",
    "cursor.fetchall()"
   ]
  },
  {
   "cell_type": "markdown",
   "id": "a021d681",
   "metadata": {},
   "source": [
    "# Sort the Result\n",
    "    Use the ORDER BY statement to sort the result in ascending or descending order.\n",
    "\n",
    "    The ORDER BY keyword sorts the result ascending by default. To sort the result in descending order, use the DESC keyword."
   ]
  },
  {
   "cell_type": "code",
   "execution_count": 53,
   "id": "181b8a5e",
   "metadata": {},
   "outputs": [
    {
     "data": {
      "text/plain": [
       "[('Amy', 'Apple st 652', 3),\n",
       " ('Ben', 'Park Lane 38', 11),\n",
       " ('Betty', 'Green Grass 1', 7),\n",
       " ('Chuck', 'Main Road 989', 13),\n",
       " ('Hannah', 'Mountain 21', 4),\n",
       " ('Michael', 'Valley 345', 5),\n",
       " ('Peter', 'Lowstreet 4', 2),\n",
       " ('Prasad', 'CDA 5', 1),\n",
       " ('Richard', 'Sky st 331', 8),\n",
       " ('Sandy', 'Ocean blvd 2', 6),\n",
       " ('Susan', 'One way 98', 9),\n",
       " ('Vicky', 'Yellow Garden 2', 10),\n",
       " ('Viola', 'Sideway 1633', 14),\n",
       " ('William', 'Central st 954', 12)]"
      ]
     },
     "execution_count": 53,
     "metadata": {},
     "output_type": "execute_result"
    }
   ],
   "source": [
    "sql=\"SELECT * FROM customers ORDER BY name\"\n",
    "cursor.execute(sql)\n",
    "cursor.fetchall()\n"
   ]
  },
  {
   "cell_type": "code",
   "execution_count": 54,
   "id": "2e384adc",
   "metadata": {},
   "outputs": [
    {
     "data": {
      "text/plain": [
       "[('Amy', 'Apple st 652', 3),\n",
       " ('Prasad', 'CDA 5', 1),\n",
       " ('William', 'Central st 954', 12),\n",
       " ('Betty', 'Green Grass 1', 7),\n",
       " ('Peter', 'Lowstreet 4', 2),\n",
       " ('Chuck', 'Main Road 989', 13),\n",
       " ('Hannah', 'Mountain 21', 4),\n",
       " ('Sandy', 'Ocean blvd 2', 6),\n",
       " ('Susan', 'One way 98', 9),\n",
       " ('Ben', 'Park Lane 38', 11),\n",
       " ('Viola', 'Sideway 1633', 14),\n",
       " ('Richard', 'Sky st 331', 8),\n",
       " ('Michael', 'Valley 345', 5),\n",
       " ('Vicky', 'Yellow Garden 2', 10)]"
      ]
     },
     "execution_count": 54,
     "metadata": {},
     "output_type": "execute_result"
    }
   ],
   "source": [
    "sql=\"SELECT * FROM customers ORDER BY address \"\n",
    "cursor.execute(sql)\n",
    "cursor.fetchall()\n"
   ]
  },
  {
   "cell_type": "code",
   "execution_count": 55,
   "id": "08460db8",
   "metadata": {},
   "outputs": [
    {
     "data": {
      "text/plain": [
       "[('Prasad', 'CDA 5', 1),\n",
       " ('Peter', 'Lowstreet 4', 2),\n",
       " ('Amy', 'Apple st 652', 3),\n",
       " ('Hannah', 'Mountain 21', 4),\n",
       " ('Michael', 'Valley 345', 5),\n",
       " ('Sandy', 'Ocean blvd 2', 6),\n",
       " ('Betty', 'Green Grass 1', 7),\n",
       " ('Richard', 'Sky st 331', 8),\n",
       " ('Susan', 'One way 98', 9),\n",
       " ('Vicky', 'Yellow Garden 2', 10),\n",
       " ('Ben', 'Park Lane 38', 11),\n",
       " ('William', 'Central st 954', 12),\n",
       " ('Chuck', 'Main Road 989', 13),\n",
       " ('Viola', 'Sideway 1633', 14)]"
      ]
     },
     "execution_count": 55,
     "metadata": {},
     "output_type": "execute_result"
    }
   ],
   "source": [
    "sql=\"SELECT * FROM customers ORDER BY id \"\n",
    "cursor.execute(sql)\n",
    "cursor.fetchall()"
   ]
  },
  {
   "cell_type": "markdown",
   "id": "37c1488e",
   "metadata": {},
   "source": [
    "## ORDER BY DESC\n",
    "    Use the DESC keyword to sort the result in a descending order."
   ]
  },
  {
   "cell_type": "code",
   "execution_count": 56,
   "id": "49610634",
   "metadata": {},
   "outputs": [
    {
     "data": {
      "text/plain": [
       "[('William', 'Central st 954', 12),\n",
       " ('Viola', 'Sideway 1633', 14),\n",
       " ('Vicky', 'Yellow Garden 2', 10),\n",
       " ('Susan', 'One way 98', 9),\n",
       " ('Sandy', 'Ocean blvd 2', 6),\n",
       " ('Richard', 'Sky st 331', 8),\n",
       " ('Prasad', 'CDA 5', 1),\n",
       " ('Peter', 'Lowstreet 4', 2),\n",
       " ('Michael', 'Valley 345', 5),\n",
       " ('Hannah', 'Mountain 21', 4),\n",
       " ('Chuck', 'Main Road 989', 13),\n",
       " ('Betty', 'Green Grass 1', 7),\n",
       " ('Ben', 'Park Lane 38', 11),\n",
       " ('Amy', 'Apple st 652', 3)]"
      ]
     },
     "execution_count": 56,
     "metadata": {},
     "output_type": "execute_result"
    }
   ],
   "source": [
    "sql = \"SELECT * FROM customers ORDER BY name DESC\"\n",
    "\n",
    "cursor.execute(sql)\n",
    "\n",
    "cursor.fetchall()\n"
   ]
  },
  {
   "cell_type": "markdown",
   "id": "d5801ff0",
   "metadata": {},
   "source": [
    "# Update Table\n",
    "  You can update existing records in a table by using the \"UPDATE\" statement:"
   ]
  },
  {
   "cell_type": "code",
   "execution_count": 20,
   "id": "51eebf06",
   "metadata": {},
   "outputs": [
    {
     "name": "stdout",
     "output_type": "stream",
     "text": [
      "1 record(s) affected\n"
     ]
    }
   ],
   "source": [
    "sql = \"UPDATE customers SET address = 'Canyon 123' WHERE address = 'Valley 345'\"\n",
    "\n",
    "cursor.execute(sql)\n",
    "\n",
    "mydb.commit()\n",
    "\n",
    "print(cursor.rowcount, \"record(s) affected\")"
   ]
  },
  {
   "cell_type": "code",
   "execution_count": 21,
   "id": "c3fe08f7",
   "metadata": {},
   "outputs": [
    {
     "data": {
      "text/plain": [
       "[('Prasad', 'CDA 5', 1),\n",
       " ('Peter', 'Lowstreet 4', 2),\n",
       " ('Amy', 'Apple st 652', 3),\n",
       " ('Hannah', 'Mountain 21', 4),\n",
       " ('Michael', 'Canyon 123', 5),\n",
       " ('Sandy', 'Ocean blvd 2', 6),\n",
       " ('Betty', 'Green Grass 1', 7),\n",
       " ('Richard', 'Sky st 331', 8),\n",
       " ('Susan', 'One way 98', 9),\n",
       " ('Vicky', 'Yellow Garden 2', 10),\n",
       " ('Ben', 'Park Lane 38', 11),\n",
       " ('William', 'Central st 954', 12),\n",
       " ('Chuck', 'Main Road 989', 13),\n",
       " ('Viola', 'Sideway 1633', 14)]"
      ]
     },
     "execution_count": 21,
     "metadata": {},
     "output_type": "execute_result"
    }
   ],
   "source": [
    "cursor.execute(\"SELECT * FROM customers \")\n",
    "cursor.fetchall()"
   ]
  },
  {
   "cell_type": "markdown",
   "id": "e2330524",
   "metadata": {},
   "source": [
    "# Prevent SQL Injection\n",
    "    It is considered a good practice to escape the values of any query, also in update statements.\n",
    "\n",
    "    This is to prevent SQL injections, which is a common web hacking technique to destroy or misuse your database.\n",
    "\n",
    "    The mysql.connector module uses the placeholder %s to escape values in the delete statement:\n",
    "\n"
   ]
  },
  {
   "cell_type": "code",
   "execution_count": 22,
   "id": "70d9a972",
   "metadata": {},
   "outputs": [
    {
     "name": "stdout",
     "output_type": "stream",
     "text": [
      "1 record(s) affected\n"
     ]
    }
   ],
   "source": [
    "\n",
    "import mysql.connector\n",
    "\n",
    "mydb = mysql.connector.connect(\n",
    "  host=\"localhost\",\n",
    "  user=\"root\",\n",
    "  password=\"Kanha@8144\",\n",
    "  database=\"mydatabase\"\n",
    ")\n",
    "\n",
    "cursor = mydb.cursor()\n",
    "\n",
    "sql = \"UPDATE customers SET address = %s WHERE address = %s\"\n",
    "val = (\"Valley 345\", \"Canyon 123\")\n",
    "\n",
    "cursor.execute(sql, val)\n",
    "\n",
    "mydb.commit()\n",
    "\n",
    "print(cursor.rowcount, \"record(s) affected\")\n"
   ]
  },
  {
   "cell_type": "code",
   "execution_count": 23,
   "id": "c41f8c8a",
   "metadata": {},
   "outputs": [
    {
     "data": {
      "text/plain": [
       "[('Prasad', 'CDA 5', 1),\n",
       " ('Peter', 'Lowstreet 4', 2),\n",
       " ('Amy', 'Apple st 652', 3),\n",
       " ('Hannah', 'Mountain 21', 4),\n",
       " ('Michael', 'Valley 345', 5),\n",
       " ('Sandy', 'Ocean blvd 2', 6),\n",
       " ('Betty', 'Green Grass 1', 7),\n",
       " ('Richard', 'Sky st 331', 8),\n",
       " ('Susan', 'One way 98', 9),\n",
       " ('Vicky', 'Yellow Garden 2', 10),\n",
       " ('Ben', 'Park Lane 38', 11),\n",
       " ('William', 'Central st 954', 12),\n",
       " ('Chuck', 'Main Road 989', 13),\n",
       " ('Viola', 'Sideway 1633', 14)]"
      ]
     },
     "execution_count": 23,
     "metadata": {},
     "output_type": "execute_result"
    }
   ],
   "source": [
    "cursor.execute(\"SELECT * FROM customers \")\n",
    "cursor.fetchall()"
   ]
  },
  {
   "cell_type": "markdown",
   "id": "d0603832",
   "metadata": {},
   "source": [
    "# Limit the Result\n",
    "    You can limit the number of records returned from the query, by using the \"LIMIT\" statement:\n",
    "\n"
   ]
  },
  {
   "cell_type": "code",
   "execution_count": 24,
   "id": "c72b88f6",
   "metadata": {},
   "outputs": [
    {
     "data": {
      "text/plain": [
       "[('Prasad', 'CDA 5', 1),\n",
       " ('Peter', 'Lowstreet 4', 2),\n",
       " ('Amy', 'Apple st 652', 3),\n",
       " ('Hannah', 'Mountain 21', 4),\n",
       " ('Michael', 'Valley 345', 5)]"
      ]
     },
     "execution_count": 24,
     "metadata": {},
     "output_type": "execute_result"
    }
   ],
   "source": [
    "import mysql.connector\n",
    "\n",
    "mydb = mysql.connector.connect(\n",
    "  host=\"localhost\",\n",
    "  user=\"root\",\n",
    "  password=\"Kanha@8144\",\n",
    "  database=\"mydatabase\"\n",
    ")\n",
    "cursor=mydb.cursor()\n",
    "\n",
    "cursor.execute(\"SELECT * FROM customers LIMIT 5\")\n",
    "\n",
    "cursor.fetchall()"
   ]
  },
  {
   "cell_type": "markdown",
   "id": "14afe076",
   "metadata": {},
   "source": [
    "# Start From Another Position\n",
    "    If you want to return five records, starting from the third record, you can use the \"OFFSET\" keyword:"
   ]
  },
  {
   "cell_type": "code",
   "execution_count": 25,
   "id": "7e6b6683",
   "metadata": {},
   "outputs": [
    {
     "data": {
      "text/plain": [
       "[('Amy', 'Apple st 652', 3),\n",
       " ('Hannah', 'Mountain 21', 4),\n",
       " ('Michael', 'Valley 345', 5),\n",
       " ('Sandy', 'Ocean blvd 2', 6),\n",
       " ('Betty', 'Green Grass 1', 7)]"
      ]
     },
     "execution_count": 25,
     "metadata": {},
     "output_type": "execute_result"
    }
   ],
   "source": [
    "import mysql.connector\n",
    "\n",
    "mydb = mysql.connector.connect(\n",
    "  host=\"localhost\",\n",
    "  user=\"root\",\n",
    "  password=\"Kanha@8144\",\n",
    "  database=\"mydatabase\"\n",
    ")\n",
    "cursor=mydb.cursor()\n",
    "\n",
    "cursor.execute(\"SELECT * FROM customers LIMIT 5 OFFSET 2 \")\n",
    "\n",
    "cursor.fetchall()"
   ]
  },
  {
   "cell_type": "markdown",
   "id": "cd916c33",
   "metadata": {},
   "source": [
    "# Join Two or More Tables\n",
    "    You can combine rows from two or more tables, based on a related column between them, by using a JOIN statement.\n",
    "\n",
    "    Assuming you want to create two tables, employees and departments, and associate them through a department ID:\n",
    "\n",
    "**Create the employees table:**\n",
    "\n"
   ]
  },
  {
   "attachments": {
    "join-types.jpg": {
     "image/jpeg": "[encoded data removed]"
    }
   },
   "cell_type": "markdown",
   "id": "29865ca8",
   "metadata": {},
   "source": [
    "![join-types.jpg](attachment:join-types.jpg)"
   ]
  },
  {
   "cell_type": "code",
   "execution_count": 33,
   "id": "53166974",
   "metadata": {},
   "outputs": [],
   "source": [
    "import mysql.connector\n",
    "\n",
    "mydb = mysql.connector.connect(\n",
    "  host=\"localhost\",\n",
    "  user=\"root\",\n",
    "  password=\"Kanha@8144\",\n",
    "  database=\"mydatabase\"\n",
    ")\n",
    "cursor=mydb.cursor()"
   ]
  },
  {
   "cell_type": "code",
   "execution_count": 27,
   "id": "665a6ad0",
   "metadata": {},
   "outputs": [],
   "source": [
    "query=\"CREATE TABLE employees (id INT AUTO_INCREMENT PRIMARY KEY,name VARCHAR(255) NOT NULL,department_id INT,salary DECIMAL(10, 2),hire_date DATE)\"\n",
    "\n",
    "cursor.execute(query)"
   ]
  },
  {
   "cell_type": "markdown",
   "id": "3d1ae596",
   "metadata": {},
   "source": [
    "**Create Departments table :**"
   ]
  },
  {
   "cell_type": "code",
   "execution_count": 28,
   "id": "4a1dd26f",
   "metadata": {},
   "outputs": [],
   "source": [
    "cursor.execute(\"CREATE TABLE departments (id INT AUTO_INCREMENT PRIMARY KEY,department_name VARCHAR(255) NOT NULL)\")"
   ]
  },
  {
   "cell_type": "markdown",
   "id": "3b37dbb0",
   "metadata": {},
   "source": [
    "**Insert data into the tables:**"
   ]
  },
  {
   "cell_type": "code",
   "execution_count": 29,
   "id": "e95ef96f",
   "metadata": {},
   "outputs": [],
   "source": [
    "# Insert data into the employees table\n",
    "employee_data = [\n",
    "    ('John Doe', 1, 60000.00, '2020-01-15'),\n",
    "    ('Jane Smith', 2, 55000.00, '2019-05-20'),\n",
    "    ('Bob Johnson', 1, 62000.00, '2021-03-10'),\n",
    "    ('Alice Brown', 3, 58000.00, '2018-11-05')\n",
    "]\n",
    "\n",
    "\n",
    "query = \"INSERT INTO employees (name, department_id, salary, hire_date) VALUES (%s, %s, %s, %s)\"\n",
    "cursor.executemany(query, employee_data)\n",
    "mydb.commit()\n",
    "\n"
   ]
  },
  {
   "cell_type": "code",
   "execution_count": 35,
   "id": "eba3c4c5",
   "metadata": {},
   "outputs": [],
   "source": [
    "# Insert data into the departments table\n",
    "department_data = [('HR',),('IT',),('Sales',)]\n",
    "\n",
    "insert_department_query = \"INSERT INTO departments (department_name) VALUES (%s)\"\n",
    "cursor.executemany(insert_department_query, department_data)\n",
    "mydb.commit()"
   ]
  },
  {
   "cell_type": "code",
   "execution_count": 36,
   "id": "ca0b6cb5",
   "metadata": {},
   "outputs": [
    {
     "data": {
      "text/plain": [
       "[(1, 'John Doe', 1, Decimal('60000.00'), datetime.date(2020, 1, 15)),\n",
       " (2, 'Jane Smith', 2, Decimal('55000.00'), datetime.date(2019, 5, 20)),\n",
       " (3, 'Bob Johnson', 1, Decimal('62000.00'), datetime.date(2021, 3, 10)),\n",
       " (4, 'Alice Brown', 3, Decimal('58000.00'), datetime.date(2018, 11, 5))]"
      ]
     },
     "execution_count": 36,
     "metadata": {},
     "output_type": "execute_result"
    }
   ],
   "source": [
    "cursor.execute(\"SELECT * FROM  employees \")\n",
    "cursor.fetchall()"
   ]
  },
  {
   "cell_type": "code",
   "execution_count": 37,
   "id": "32659637",
   "metadata": {},
   "outputs": [
    {
     "data": {
      "text/plain": [
       "[(1, 'HR'), (2, 'IT'), (3, 'Sales')]"
      ]
     },
     "execution_count": 37,
     "metadata": {},
     "output_type": "execute_result"
    }
   ],
   "source": [
    "cursor.execute(\"SELECT * FROM  departments \")\n",
    "cursor.fetchall()"
   ]
  },
  {
   "cell_type": "markdown",
   "id": "b717ca70",
   "metadata": {},
   "source": [
    "## 1.Inner Join"
   ]
  },
  {
   "cell_type": "code",
   "execution_count": 40,
   "id": "cfda5f1f",
   "metadata": {},
   "outputs": [
    {
     "name": "stdout",
     "output_type": "stream",
     "text": [
      "('John Doe', 'HR')\n",
      "('Jane Smith', 'IT')\n",
      "('Bob Johnson', 'HR')\n",
      "('Alice Brown', 'Sales')\n"
     ]
    }
   ],
   "source": [
    "import mysql.connector\n",
    "\n",
    "mydb = mysql.connector.connect(\n",
    "  host=\"localhost\",\n",
    "  user=\"root\",\n",
    "  password=\"Kanha@8144\",\n",
    "  database=\"mydatabase\"\n",
    ")\n",
    "cursor=mydb.cursor()\n",
    "\n",
    "\n",
    "\n",
    "\n",
    "\n",
    "# INNER JOIN example\n",
    "query = \"\"\"\n",
    "SELECT employees.name, departments.department_name\n",
    "FROM employees\n",
    "INNER JOIN departments ON employees.department_id = departments.id\n",
    "\"\"\"\n",
    "\n",
    "cursor.execute(query)\n",
    "result = cursor.fetchall()\n",
    "\n",
    "for row in result:\n",
    "    print(row)\n",
    "\n",
    "\n",
    "\n",
    "\n",
    "\n",
    "\n",
    "\n",
    "\n"
   ]
  },
  {
   "cell_type": "markdown",
   "id": "dc2c9f67",
   "metadata": {},
   "source": [
    "## 2.Left Join"
   ]
  },
  {
   "cell_type": "code",
   "execution_count": 41,
   "id": "c64c4fcd",
   "metadata": {},
   "outputs": [
    {
     "name": "stdout",
     "output_type": "stream",
     "text": [
      "\n",
      "LEFT JOIN:\n",
      "('John Doe', 'HR')\n",
      "('Jane Smith', 'IT')\n",
      "('Bob Johnson', 'HR')\n",
      "('Alice Brown', 'Sales')\n"
     ]
    }
   ],
   "source": [
    "# LEFT JOIN example\n",
    "query = \"\"\"\n",
    "SELECT employees.name, departments.department_name\n",
    "FROM employees\n",
    "LEFT JOIN departments ON employees.department_id = departments.id\n",
    "\"\"\"\n",
    "\n",
    "cursor.execute(query)\n",
    "result = cursor.fetchall()\n",
    "\n",
    "print(\"\\nLEFT JOIN:\")\n",
    "for row in result:\n",
    "    print(row)"
   ]
  },
  {
   "cell_type": "markdown",
   "id": "fb6b99be",
   "metadata": {},
   "source": [
    "## 3.Right Join"
   ]
  },
  {
   "cell_type": "code",
   "execution_count": 42,
   "id": "468e6166",
   "metadata": {},
   "outputs": [
    {
     "name": "stdout",
     "output_type": "stream",
     "text": [
      "\n",
      "RIGHT JOIN:\n",
      "('Bob Johnson', 'HR')\n",
      "('John Doe', 'HR')\n",
      "('Jane Smith', 'IT')\n",
      "('Alice Brown', 'Sales')\n"
     ]
    }
   ],
   "source": [
    "# RIGHT JOIN example\n",
    "query = \"\"\"\n",
    "SELECT employees.name, departments.department_name\n",
    "FROM employees\n",
    "RIGHT JOIN departments ON employees.department_id = departments.id\n",
    "\"\"\"\n",
    "\n",
    "cursor.execute(query)\n",
    "result = cursor.fetchall()\n",
    "\n",
    "print(\"\\nRIGHT JOIN:\")\n",
    "for row in result:\n",
    "    print(row)"
   ]
  },
  {
   "cell_type": "markdown",
   "id": "8154a70b",
   "metadata": {},
   "source": [
    "## 3. Full Join"
   ]
  },
  {
   "cell_type": "code",
   "execution_count": 43,
   "id": "9f60520f",
   "metadata": {},
   "outputs": [
    {
     "name": "stdout",
     "output_type": "stream",
     "text": [
      "\n",
      "FULL JOIN (emulated):\n",
      "('John Doe', 'HR')\n",
      "('Jane Smith', 'IT')\n",
      "('Bob Johnson', 'HR')\n",
      "('Alice Brown', 'Sales')\n"
     ]
    }
   ],
   "source": [
    "# FULL JOIN emulation using UNION of LEFT JOIN and RIGHT JOIN\n",
    "query = \"\"\"\n",
    "SELECT employees.name, departments.department_name\n",
    "FROM employees\n",
    "LEFT JOIN departments ON employees.department_id = departments.id\n",
    "UNION\n",
    "SELECT employees.name, departments.department_name\n",
    "FROM employees\n",
    "RIGHT JOIN departments ON employees.department_id = departments.id\n",
    "\"\"\"\n",
    "\n",
    "cursor.execute(query)\n",
    "result = cursor.fetchall()\n",
    "\n",
    "print(\"\\nFULL JOIN (emulated):\")\n",
    "for row in result:\n",
    "    print(row)\n",
    "\n"
   ]
  },
  {
   "cell_type": "code",
   "execution_count": null,
   "id": "6be3fce5",
   "metadata": {},
   "outputs": [],
   "source": []
  },
  {
   "cell_type": "markdown",
   "id": "8e719bfb",
   "metadata": {},
   "source": [
    "# Delete Record\n",
    "    You can delete records from an existing table by using the \"DELETE FROM\" statement:"
   ]
  },
  {
   "cell_type": "code",
   "execution_count": 2,
   "id": "e4d53467",
   "metadata": {},
   "outputs": [],
   "source": [
    "import mysql.connector\n",
    "\n",
    "mydb = mysql.connector.connect(\n",
    "  host=\"localhost\",\n",
    "  user=\"root\",\n",
    "  password=\"Kanha@8144\",\n",
    "  database=\"mydatabase\"\n",
    ")\n",
    "cursor=mydb.cursor()\n",
    "sql = \"DELETE FROM customers WHERE address = 'Mountain 21'\"\n",
    "\n",
    "cursor.execute(sql)\n",
    "\n",
    "mydb.commit()\n",
    "\n"
   ]
  },
  {
   "cell_type": "code",
   "execution_count": 3,
   "id": "24c5025e",
   "metadata": {},
   "outputs": [
    {
     "name": "stdout",
     "output_type": "stream",
     "text": [
      "1 record(s) deleted\n"
     ]
    }
   ],
   "source": [
    "print(cursor.rowcount, \"record(s) deleted\")"
   ]
  },
  {
   "cell_type": "code",
   "execution_count": 5,
   "id": "3478a7a9",
   "metadata": {},
   "outputs": [],
   "source": [
    "import mysql.connector\n",
    "\n",
    "mydb = mysql.connector.connect(\n",
    "  host=\"localhost\",\n",
    "  user=\"root\",\n",
    "  password=\"Kanha@8144\",\n",
    "  database=\"mydatabase\"\n",
    ")\n",
    "\n",
    "cursor = mydb.cursor()"
   ]
  },
  {
   "cell_type": "code",
   "execution_count": 6,
   "id": "f3144b09",
   "metadata": {},
   "outputs": [
    {
     "data": {
      "text/plain": [
       "[('Prasad', 'CDA 5', 1),\n",
       " ('Peter', 'Lowstreet 4', 2),\n",
       " ('Amy', 'Apple st 652', 3),\n",
       " ('Michael', 'Valley 345', 5),\n",
       " ('Sandy', 'Ocean blvd 2', 6),\n",
       " ('Betty', 'Green Grass 1', 7),\n",
       " ('Richard', 'Sky st 331', 8),\n",
       " ('Susan', 'One way 98', 9),\n",
       " ('Vicky', 'Yellow Garden 2', 10),\n",
       " ('Ben', 'Park Lane 38', 11),\n",
       " ('William', 'Central st 954', 12),\n",
       " ('Chuck', 'Main Road 989', 13),\n",
       " ('Viola', 'Sideway 1633', 14)]"
      ]
     },
     "execution_count": 6,
     "metadata": {},
     "output_type": "execute_result"
    }
   ],
   "source": [
    "cursor.execute(\"SELECT * FROM customers\")\n",
    "cursor.fetchall()"
   ]
  },
  {
   "cell_type": "code",
   "execution_count": 7,
   "id": "1e66ef91",
   "metadata": {},
   "outputs": [],
   "source": [
    "sql=\"DELETE FROM customers WHERE name='Prasad' \"\n",
    "cursor.execute(sql)\n",
    "mydb.commit()\n"
   ]
  },
  {
   "cell_type": "code",
   "execution_count": 8,
   "id": "1da613fd",
   "metadata": {},
   "outputs": [
    {
     "name": "stdout",
     "output_type": "stream",
     "text": [
      "1 record(s) deleted\n"
     ]
    }
   ],
   "source": [
    "print(cursor.rowcount, \"record(s) deleted\")"
   ]
  },
  {
   "cell_type": "code",
   "execution_count": 9,
   "id": "ac52743c",
   "metadata": {},
   "outputs": [
    {
     "data": {
      "text/plain": [
       "[('Peter', 'Lowstreet 4', 2),\n",
       " ('Amy', 'Apple st 652', 3),\n",
       " ('Michael', 'Valley 345', 5),\n",
       " ('Sandy', 'Ocean blvd 2', 6),\n",
       " ('Betty', 'Green Grass 1', 7),\n",
       " ('Richard', 'Sky st 331', 8),\n",
       " ('Susan', 'One way 98', 9),\n",
       " ('Vicky', 'Yellow Garden 2', 10),\n",
       " ('Ben', 'Park Lane 38', 11),\n",
       " ('William', 'Central st 954', 12),\n",
       " ('Chuck', 'Main Road 989', 13),\n",
       " ('Viola', 'Sideway 1633', 14)]"
      ]
     },
     "execution_count": 9,
     "metadata": {},
     "output_type": "execute_result"
    }
   ],
   "source": [
    "cursor.execute(\"SELECT * FROM customers\")\n",
    "cursor.fetchall()"
   ]
  },
  {
   "cell_type": "markdown",
   "id": "c42221ea",
   "metadata": {},
   "source": [
    "**Important!:** Notice the statement: mydb.commit(). It is required to make the changes, otherwise no changes are made to the table.\n",
    "\n",
    "\n",
    "WHERE clause in the DELETE syntax: The WHERE clause specifies which record(s) that should be deleted. If you omit the WHERE clause, all records will be deleted!"
   ]
  },
  {
   "cell_type": "markdown",
   "id": "700d3c57",
   "metadata": {},
   "source": [
    "# Prevent SQL Injection\n",
    "        It is considered a good practice to escape the values of any query, also in delete statements.\n",
    "\n",
    "        This is to prevent SQL injections, which is a common web hacking technique to destroy or misuse your database.\n",
    "\n",
    "        The mysql.connector module uses the placeholder %s to escape values in the delete statement:"
   ]
  },
  {
   "cell_type": "code",
   "execution_count": 10,
   "id": "82b2c864",
   "metadata": {},
   "outputs": [
    {
     "name": "stdout",
     "output_type": "stream",
     "text": [
      "1 record(s) deleted\n"
     ]
    }
   ],
   "source": [
    "sql = \"DELETE FROM customers WHERE address = %s\"\n",
    "adr = (\"Yellow Garden 2\", )\n",
    "\n",
    "cursor.execute(sql, adr)\n",
    "\n",
    "mydb.commit()\n",
    "\n",
    "print(cursor.rowcount, \"record(s) deleted\")"
   ]
  },
  {
   "cell_type": "code",
   "execution_count": 11,
   "id": "f784c803",
   "metadata": {},
   "outputs": [
    {
     "data": {
      "text/plain": [
       "[('Peter', 'Lowstreet 4', 2),\n",
       " ('Amy', 'Apple st 652', 3),\n",
       " ('Michael', 'Valley 345', 5),\n",
       " ('Sandy', 'Ocean blvd 2', 6),\n",
       " ('Betty', 'Green Grass 1', 7),\n",
       " ('Richard', 'Sky st 331', 8),\n",
       " ('Susan', 'One way 98', 9),\n",
       " ('Ben', 'Park Lane 38', 11),\n",
       " ('William', 'Central st 954', 12),\n",
       " ('Chuck', 'Main Road 989', 13),\n",
       " ('Viola', 'Sideway 1633', 14)]"
      ]
     },
     "execution_count": 11,
     "metadata": {},
     "output_type": "execute_result"
    }
   ],
   "source": [
    "cursor.execute(\"SELECT * FROM customers\")\n",
    "cursor.fetchall()"
   ]
  },
  {
   "cell_type": "markdown",
   "id": "7da38d13",
   "metadata": {},
   "source": [
    "# Delete a Table\n",
    "\n",
    "    You can delete an existing table by using the \"DROP TABLE\" statement:"
   ]
  },
  {
   "cell_type": "code",
   "execution_count": 1,
   "id": "a3cd23cf",
   "metadata": {},
   "outputs": [
    {
     "ename": "ProgrammingError",
     "evalue": "1051 (42S02): Unknown table 'mydatabase.customers'",
     "output_type": "error",
     "traceback": [
      "\u001b[0;31m---------------------------------------------------------------------------\u001b[0m",
      "\u001b[0;31mMySQLInterfaceError\u001b[0m                       Traceback (most recent call last)",
      "File \u001b[0;32m~/anaconda3/lib/python3.11/site-packages/mysql/connector/connection_cext.py:639\u001b[0m, in \u001b[0;36mCMySQLConnection.cmd_query\u001b[0;34m(self, query, raw, buffered, raw_as_string)\u001b[0m\n\u001b[1;32m    638\u001b[0m         query \u001b[38;5;241m=\u001b[39m query\u001b[38;5;241m.\u001b[39mencode(\u001b[38;5;124m\"\u001b[39m\u001b[38;5;124mutf-8\u001b[39m\u001b[38;5;124m\"\u001b[39m)\n\u001b[0;32m--> 639\u001b[0m     \u001b[38;5;28mself\u001b[39m\u001b[38;5;241m.\u001b[39m_cmysql\u001b[38;5;241m.\u001b[39mquery(\n\u001b[1;32m    640\u001b[0m         query,\n\u001b[1;32m    641\u001b[0m         raw\u001b[38;5;241m=\u001b[39mraw,\n\u001b[1;32m    642\u001b[0m         buffered\u001b[38;5;241m=\u001b[39mbuffered,\n\u001b[1;32m    643\u001b[0m         raw_as_string\u001b[38;5;241m=\u001b[39mraw_as_string,\n\u001b[1;32m    644\u001b[0m         query_attrs\u001b[38;5;241m=\u001b[39m\u001b[38;5;28mself\u001b[39m\u001b[38;5;241m.\u001b[39mquery_attrs,\n\u001b[1;32m    645\u001b[0m     )\n\u001b[1;32m    646\u001b[0m \u001b[38;5;28;01mexcept\u001b[39;00m MySQLInterfaceError \u001b[38;5;28;01mas\u001b[39;00m err:\n",
      "\u001b[0;31mMySQLInterfaceError\u001b[0m: Unknown table 'mydatabase.customers'",
      "\nThe above exception was the direct cause of the following exception:\n",
      "\u001b[0;31mProgrammingError\u001b[0m                          Traceback (most recent call last)",
      "Cell \u001b[0;32mIn[1], line 14\u001b[0m\n\u001b[1;32m     11\u001b[0m cursor \u001b[38;5;241m=\u001b[39m mydb\u001b[38;5;241m.\u001b[39mcursor()\n\u001b[1;32m     12\u001b[0m query\u001b[38;5;241m=\u001b[39m\u001b[38;5;124m\"\u001b[39m\u001b[38;5;124mDROP TABLE customers\u001b[39m\u001b[38;5;124m\"\u001b[39m\n\u001b[0;32m---> 14\u001b[0m cursor\u001b[38;5;241m.\u001b[39mexecute(query)\n",
      "File \u001b[0;32m~/anaconda3/lib/python3.11/site-packages/mysql/connector/cursor_cext.py:330\u001b[0m, in \u001b[0;36mCMySQLCursor.execute\u001b[0;34m(self, operation, params, multi)\u001b[0m\n\u001b[1;32m    325\u001b[0m             \u001b[38;5;28;01mraise\u001b[39;00m ProgrammingError(\n\u001b[1;32m    326\u001b[0m                 \u001b[38;5;124m\"\u001b[39m\u001b[38;5;124mNot all parameters were used in the SQL statement\u001b[39m\u001b[38;5;124m\"\u001b[39m\n\u001b[1;32m    327\u001b[0m             )\n\u001b[1;32m    329\u001b[0m \u001b[38;5;28;01mtry\u001b[39;00m:\n\u001b[0;32m--> 330\u001b[0m     result \u001b[38;5;241m=\u001b[39m \u001b[38;5;28mself\u001b[39m\u001b[38;5;241m.\u001b[39m_cnx\u001b[38;5;241m.\u001b[39mcmd_query(\n\u001b[1;32m    331\u001b[0m         stmt,\n\u001b[1;32m    332\u001b[0m         raw\u001b[38;5;241m=\u001b[39m\u001b[38;5;28mself\u001b[39m\u001b[38;5;241m.\u001b[39m_raw,\n\u001b[1;32m    333\u001b[0m         buffered\u001b[38;5;241m=\u001b[39m\u001b[38;5;28mself\u001b[39m\u001b[38;5;241m.\u001b[39m_buffered,\n\u001b[1;32m    334\u001b[0m         raw_as_string\u001b[38;5;241m=\u001b[39m\u001b[38;5;28mself\u001b[39m\u001b[38;5;241m.\u001b[39m_raw_as_string,\n\u001b[1;32m    335\u001b[0m     )\n\u001b[1;32m    336\u001b[0m \u001b[38;5;28;01mexcept\u001b[39;00m MySQLInterfaceError \u001b[38;5;28;01mas\u001b[39;00m err:\n\u001b[1;32m    337\u001b[0m     \u001b[38;5;28;01mraise\u001b[39;00m get_mysql_exception(\n\u001b[1;32m    338\u001b[0m         msg\u001b[38;5;241m=\u001b[39merr\u001b[38;5;241m.\u001b[39mmsg, errno\u001b[38;5;241m=\u001b[39merr\u001b[38;5;241m.\u001b[39merrno, sqlstate\u001b[38;5;241m=\u001b[39merr\u001b[38;5;241m.\u001b[39msqlstate\n\u001b[1;32m    339\u001b[0m     ) \u001b[38;5;28;01mfrom\u001b[39;00m \u001b[38;5;21;01merr\u001b[39;00m\n",
      "File \u001b[0;32m~/anaconda3/lib/python3.11/site-packages/mysql/connector/opentelemetry/context_propagation.py:77\u001b[0m, in \u001b[0;36mwith_context_propagation.<locals>.wrapper\u001b[0;34m(cnx, *args, **kwargs)\u001b[0m\n\u001b[1;32m     75\u001b[0m \u001b[38;5;250m\u001b[39m\u001b[38;5;124;03m\"\"\"Context propagation decorator.\"\"\"\u001b[39;00m\n\u001b[1;32m     76\u001b[0m \u001b[38;5;28;01mif\u001b[39;00m \u001b[38;5;129;01mnot\u001b[39;00m OTEL_ENABLED \u001b[38;5;129;01mor\u001b[39;00m \u001b[38;5;129;01mnot\u001b[39;00m cnx\u001b[38;5;241m.\u001b[39motel_context_propagation:\n\u001b[0;32m---> 77\u001b[0m     \u001b[38;5;28;01mreturn\u001b[39;00m method(cnx, \u001b[38;5;241m*\u001b[39margs, \u001b[38;5;241m*\u001b[39m\u001b[38;5;241m*\u001b[39mkwargs)\n\u001b[1;32m     79\u001b[0m current_span \u001b[38;5;241m=\u001b[39m trace\u001b[38;5;241m.\u001b[39mget_current_span()\n\u001b[1;32m     80\u001b[0m tp_header \u001b[38;5;241m=\u001b[39m \u001b[38;5;28;01mNone\u001b[39;00m\n",
      "File \u001b[0;32m~/anaconda3/lib/python3.11/site-packages/mysql/connector/connection_cext.py:647\u001b[0m, in \u001b[0;36mCMySQLConnection.cmd_query\u001b[0;34m(self, query, raw, buffered, raw_as_string)\u001b[0m\n\u001b[1;32m    639\u001b[0m     \u001b[38;5;28mself\u001b[39m\u001b[38;5;241m.\u001b[39m_cmysql\u001b[38;5;241m.\u001b[39mquery(\n\u001b[1;32m    640\u001b[0m         query,\n\u001b[1;32m    641\u001b[0m         raw\u001b[38;5;241m=\u001b[39mraw,\n\u001b[0;32m   (...)\u001b[0m\n\u001b[1;32m    644\u001b[0m         query_attrs\u001b[38;5;241m=\u001b[39m\u001b[38;5;28mself\u001b[39m\u001b[38;5;241m.\u001b[39mquery_attrs,\n\u001b[1;32m    645\u001b[0m     )\n\u001b[1;32m    646\u001b[0m \u001b[38;5;28;01mexcept\u001b[39;00m MySQLInterfaceError \u001b[38;5;28;01mas\u001b[39;00m err:\n\u001b[0;32m--> 647\u001b[0m     \u001b[38;5;28;01mraise\u001b[39;00m get_mysql_exception(\n\u001b[1;32m    648\u001b[0m         err\u001b[38;5;241m.\u001b[39merrno, msg\u001b[38;5;241m=\u001b[39merr\u001b[38;5;241m.\u001b[39mmsg, sqlstate\u001b[38;5;241m=\u001b[39merr\u001b[38;5;241m.\u001b[39msqlstate\n\u001b[1;32m    649\u001b[0m     ) \u001b[38;5;28;01mfrom\u001b[39;00m \u001b[38;5;21;01merr\u001b[39;00m\n\u001b[1;32m    650\u001b[0m \u001b[38;5;28;01mexcept\u001b[39;00m \u001b[38;5;167;01mAttributeError\u001b[39;00m \u001b[38;5;28;01mas\u001b[39;00m err:\n\u001b[1;32m    651\u001b[0m     addr \u001b[38;5;241m=\u001b[39m (\n\u001b[1;32m    652\u001b[0m         \u001b[38;5;28mself\u001b[39m\u001b[38;5;241m.\u001b[39m_unix_socket \u001b[38;5;28;01mif\u001b[39;00m \u001b[38;5;28mself\u001b[39m\u001b[38;5;241m.\u001b[39m_unix_socket \u001b[38;5;28;01melse\u001b[39;00m \u001b[38;5;124mf\u001b[39m\u001b[38;5;124m\"\u001b[39m\u001b[38;5;132;01m{\u001b[39;00m\u001b[38;5;28mself\u001b[39m\u001b[38;5;241m.\u001b[39m_host\u001b[38;5;132;01m}\u001b[39;00m\u001b[38;5;124m:\u001b[39m\u001b[38;5;132;01m{\u001b[39;00m\u001b[38;5;28mself\u001b[39m\u001b[38;5;241m.\u001b[39m_port\u001b[38;5;132;01m}\u001b[39;00m\u001b[38;5;124m\"\u001b[39m\n\u001b[1;32m    653\u001b[0m     )\n",
      "\u001b[0;31mProgrammingError\u001b[0m: 1051 (42S02): Unknown table 'mydatabase.customers'"
     ]
    }
   ],
   "source": [
    "import mysql.connector\n",
    "\n",
    "mydb = mysql.connector.connect(\n",
    "  host=\"localhost\",\n",
    "  user=\"root\",\n",
    "  password=\"Kanha@8144\",\n",
    "  database=\"mydatabase\"\n",
    ")\n",
    "\n",
    "\n",
    "cursor = mydb.cursor()\n",
    "query=\"DROP TABLE customers\"\n",
    "\n",
    "cursor.execute(query)"
   ]
  },
  {
   "cell_type": "markdown",
   "id": "c709e2e4",
   "metadata": {},
   "source": [
    "# Drop Only if Exist\n",
    "    If the table you want to delete is already deleted, or for any other reason does not exist, you can use the IF EXISTS keyword to avoid getting an error."
   ]
  },
  {
   "cell_type": "code",
   "execution_count": 2,
   "id": "49f864cc",
   "metadata": {},
   "outputs": [],
   "source": [
    "sql=\"DROP TABLE IF EXISTS customers\"\n",
    "cursor.execute(sql)\n"
   ]
  },
  {
   "cell_type": "code",
   "execution_count": 2,
   "id": "d602c07a",
   "metadata": {},
   "outputs": [
    {
     "data": {
      "text/plain": [
       "[]"
      ]
     },
     "execution_count": 2,
     "metadata": {},
     "output_type": "execute_result"
    }
   ],
   "source": [
    "import mysql.connector\n",
    "\n",
    "mydb = mysql.connector.connect(\n",
    "  host=\"localhost\",\n",
    "  user=\"root\",\n",
    "  password=\"Kanha@8144\",\n",
    "  database=\"mydatabase\"\n",
    ")\n",
    "\n",
    "cursor=mydb.cursor()\n",
    "\n",
    "\n",
    "cursor.execute(\"SHOW TABLES\")\n",
    "cursor.fetchall()"
   ]
  },
  {
   "cell_type": "code",
   "execution_count": 3,
   "id": "7ce79577",
   "metadata": {},
   "outputs": [
    {
     "data": {
      "text/plain": [
       "[('cardataset',),\n",
       " ('information_schema',),\n",
       " ('mydatabase',),\n",
       " ('mysql',),\n",
       " ('performance_schema',),\n",
       " ('practicedb',),\n",
       " ('students',),\n",
       " ('students1',),\n",
       " ('sys',)]"
      ]
     },
     "execution_count": 3,
     "metadata": {},
     "output_type": "execute_result"
    }
   ],
   "source": [
    "cursor.execute(\"SHOW DATABASES\")\n",
    "cursor.fetchall()"
   ]
  },
  {
   "cell_type": "code",
   "execution_count": null,
   "id": "4f3da17b",
   "metadata": {},
   "outputs": [],
   "source": [
    "\n"
   ]
  },
  {
   "cell_type": "code",
   "execution_count": 1,
   "id": "49b9e0d4",
   "metadata": {},
   "outputs": [
    {
     "name": "stdout",
     "output_type": "stream",
     "text": [
      "[NbConvertApp] Converting notebook PYTHON_MYSQL.ipynb to webpdf\n",
      "[NbConvertApp] Building PDF\n",
      "[NbConvertApp] PDF successfully created\n",
      "[NbConvertApp] Writing 423960 bytes to PYTHON_MYSQL.pdf\n"
     ]
    }
   ],
   "source": [
    "!jupyter nbconvert --to webpdf --allow-chromium-download PYTHON_MYSQL.ipynb"
   ]
  },
  {
   "cell_type": "code",
   "execution_count": null,
   "id": "c4e94d07",
   "metadata": {},
   "outputs": [],
   "source": []
  }
 ],
 "metadata": {
  "kernelspec": {
   "display_name": "Python 3 (ipykernel)",
   "language": "python",
   "name": "python3"
  },
  "language_info": {
   "codemirror_mode": {
    "name": "ipython",
    "version": 3
   },
   "file_extension": ".py",
   "mimetype": "text/x-python",
   "name": "python",
   "nbconvert_exporter": "python",
   "pygments_lexer": "ipython3",
   "version": "3.11.4"
  }
 },
 "nbformat": 4,
 "nbformat_minor": 5
}
