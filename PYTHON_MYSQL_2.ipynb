{
 "cells": [
  {
   "attachments": {
    "PYTHON%20SQL.png": {
     "image/png": "[encoded data removed]"
    }
   },
   "cell_type": "markdown",
   "id": "08a7d496",
   "metadata": {},
   "source": [
    "![PYTHON%20SQL.png](attachment:PYTHON%20SQL.png)"
   ]
  },
  {
   "cell_type": "markdown",
   "id": "58ccbd63",
   "metadata": {},
   "source": [
    "# CREATE CONNECTION"
   ]
  },
  {
   "cell_type": "code",
   "execution_count": 1,
   "id": "be305b6f",
   "metadata": {},
   "outputs": [],
   "source": [
    "import mysql.connector\n",
    "from mysql.connector import errors\n",
    "\n",
    "\n",
    "mydb=mysql.connector.connect(\n",
    "\n",
    "    host='localhost',\n",
    "    user=\"root\",\n",
    "    password=\"Kanha@8144\",\n",
    "    \n",
    "\n",
    ")\n",
    "\n",
    "cursor=mydb.cursor()"
   ]
  },
  {
   "cell_type": "code",
   "execution_count": 2,
   "id": "055fe477",
   "metadata": {},
   "outputs": [
    {
     "data": {
      "text/plain": [
       "[('imdb',),\n",
       " ('information_schema',),\n",
       " ('mysql',),\n",
       " ('performance_schema',),\n",
       " ('practiceDB',),\n",
       " ('sys',),\n",
       " ('testDB',),\n",
       " ('walmartsales',)]"
      ]
     },
     "execution_count": 2,
     "metadata": {},
     "output_type": "execute_result"
    }
   ],
   "source": [
    "cursor.execute(\"SHOW DATABASES\")\n",
    "cursor.fetchall()"
   ]
  },
  {
   "cell_type": "code",
   "execution_count": 4,
   "id": "4aba14ca",
   "metadata": {},
   "outputs": [],
   "source": [
    "cursor.execute(\"USE PracticeDB\")\n"
   ]
  },
  {
   "cell_type": "code",
   "execution_count": 5,
   "id": "e52a347f",
   "metadata": {},
   "outputs": [
    {
     "data": {
      "text/plain": [
       "[('customers',),\n",
       " ('departments',),\n",
       " ('employees',),\n",
       " ('orders',),\n",
       " ('student',),\n",
       " ('table1',),\n",
       " ('table2',)]"
      ]
     },
     "execution_count": 5,
     "metadata": {},
     "output_type": "execute_result"
    }
   ],
   "source": [
    "cursor.execute(\"SHOW TABLES\")\n",
    "cursor.fetchall()"
   ]
  },
  {
   "cell_type": "markdown",
   "id": "8a07939b",
   "metadata": {},
   "source": [
    "# CRUD Operation in Python using MySQL\n",
    "\n",
    "    In this article, we will be seeing how to perform CRUD (CREATE, READ, UPDATE and DELETE) operations in Python using MySQL. "
   ]
  },
  {
   "cell_type": "markdown",
   "id": "6cfae55a",
   "metadata": {},
   "source": [
    "# CREATING A TABLE"
   ]
  },
  {
   "cell_type": "code",
   "execution_count": 7,
   "id": "9842f546",
   "metadata": {},
   "outputs": [],
   "source": [
    "import mysql.connector\n",
    "\n",
    "mydb = mysql.connector.connect(\n",
    "  host=\"localhost\",\n",
    "  user=\"root\",\n",
    "  password=\"Kanha@8144\",\n",
    "  database=\"practiceDB\"\n",
    ")\n",
    "\n",
    "\n",
    "cursor = mydb.cursor()\n",
    "\n",
    "\n",
    "query=\"\"\"\n",
    "CREATE TABLE studentss (\n",
    "    name VARCHAR(20) NOT NULL,\n",
    "    branch VARCHAR(50),\n",
    "    roll INT NOT NULL PRIMARY KEY,\n",
    "    section VARCHAR(10),\n",
    "    age INT\n",
    ")\n",
    "\"\"\"\n",
    "cursor.execute(query)\n"
   ]
  },
  {
   "cell_type": "markdown",
   "id": "cf8bbf02",
   "metadata": {},
   "source": [
    "# INSERT INTO TABLES"
   ]
  },
  {
   "cell_type": "markdown",
   "id": "0b9fe83f",
   "metadata": {},
   "source": [
    "## Inserting single row"
   ]
  },
  {
   "cell_type": "code",
   "execution_count": 8,
   "id": "7be14c55",
   "metadata": {},
   "outputs": [],
   "source": [
    "import mysql.connector\n",
    "\n",
    "mydb = mysql.connector.connect(\n",
    "  host=\"localhost\",\n",
    "  user=\"root\",\n",
    "  password=\"Kanha@8144\",\n",
    "  database=\"practiceDB\"\n",
    ")\n",
    "\n",
    "\n",
    "cursor = mydb.cursor()\n",
    "\n",
    "\n",
    "\n",
    "query=\"\"\"\n",
    "INSERT INTO studentss (name,branch,roll,section,age)\n",
    "VALUES (%s,%s,%s,%s,%s)\n",
    "\"\"\"\n",
    "\n",
    "val= (\"Ram\", \"CSE\", 85, \"B\", 19)\n",
    "cursor.execute(query,val)\n",
    "mydb.commit()\n"
   ]
  },
  {
   "cell_type": "code",
   "execution_count": 9,
   "id": "6008c61e",
   "metadata": {},
   "outputs": [
    {
     "data": {
      "text/plain": [
       "[('Amit', 'ECE', 24, 'A', 21),\n",
       " ('Rohan', 'MAE', 43, 'B', 20),\n",
       " ('Anil', 'MAE', 45, 'B', 20),\n",
       " ('Megha', 'ECE', 55, 'A', 22),\n",
       " ('Ram', 'CSE', 85, 'B', 19),\n",
       " ('Sita', 'CSE', 95, 'A', 19),\n",
       " ('Nikhil', 'CSE', 98, 'A', 18),\n",
       " ('Nisha', 'CSE', 99, 'A', 18)]"
      ]
     },
     "execution_count": 9,
     "metadata": {},
     "output_type": "execute_result"
    }
   ],
   "source": [
    "cursor.execute(\"SELECT * FROM studentss\")\n",
    "cursor.fetchall()"
   ]
  },
  {
   "cell_type": "markdown",
   "id": "1aa29dd9",
   "metadata": {},
   "source": [
    "## Inserting multipe rows"
   ]
  },
  {
   "cell_type": "code",
   "execution_count": 6,
   "id": "e2dc9139",
   "metadata": {},
   "outputs": [],
   "source": [
    "import mysql.connector\n",
    "\n",
    "mydb = mysql.connector.connect(\n",
    "  host=\"localhost\",\n",
    "  user=\"root\",\n",
    "  password=\"Kanha@8144\",\n",
    "  database=\"practiceDB\"\n",
    ")\n",
    "\n",
    "cursor = mydb.cursor()\n",
    "\n",
    "query = \"\"\"\n",
    "INSERT INTO studentss (name, branch, roll, section, age)\n",
    "VALUES (%s, %s, %s, %s, %s)\n",
    "\"\"\"\n",
    "\n",
    "val = [\n",
    "    (\"Nikhil\", \"CSE\", 98, \"A\", 18),\n",
    "    (\"Nisha\", \"CSE\", 99, \"A\", 18),\n",
    "    (\"Rohan\", \"MAE\", 43, \"B\", 20),\n",
    "    (\"Amit\", \"ECE\", 24, \"A\", 21),\n",
    "    (\"Anil\", \"MAE\", 45, \"B\", 20),\n",
    "    (\"Megha\", \"ECE\", 55, \"A\", 22),\n",
    "    (\"Sita\", \"CSE\", 95, \"A\", 19)\n",
    "]\n",
    "\n",
    "cursor.executemany(query, val)  # Use 'executemany' to insert multiple rows\n",
    "mydb.commit()  # Commit the changes to the database\n"
   ]
  },
  {
   "cell_type": "code",
   "execution_count": 10,
   "id": "d69bb82e",
   "metadata": {},
   "outputs": [
    {
     "data": {
      "text/plain": [
       "[('Amit', 'ECE', 24, 'A', 21),\n",
       " ('Rohan', 'MAE', 43, 'B', 20),\n",
       " ('Anil', 'MAE', 45, 'B', 20),\n",
       " ('Megha', 'ECE', 55, 'A', 22),\n",
       " ('Ram', 'CSE', 85, 'B', 19),\n",
       " ('Sita', 'CSE', 95, 'A', 19),\n",
       " ('Nikhil', 'CSE', 98, 'A', 18),\n",
       " ('Nisha', 'CSE', 99, 'A', 18)]"
      ]
     },
     "execution_count": 10,
     "metadata": {},
     "output_type": "execute_result"
    }
   ],
   "source": [
    "cursor.execute(\"SELECT * FROM studentss\")\n",
    "cursor.fetchall()"
   ]
  },
  {
   "cell_type": "markdown",
   "id": "76f47e1a",
   "metadata": {},
   "source": [
    "# FETCHING DATA"
   ]
  },
  {
   "cell_type": "code",
   "execution_count": 12,
   "id": "206de9a5",
   "metadata": {},
   "outputs": [
    {
     "name": "stdout",
     "output_type": "stream",
     "text": [
      "('Amit', 24)\n",
      "('Rohan', 43)\n",
      "('Anil', 45)\n",
      "('Megha', 55)\n",
      "('Ram', 85)\n",
      "('Sita', 95)\n",
      "('Nikhil', 98)\n",
      "('Nisha', 99)\n"
     ]
    }
   ],
   "source": [
    "import mysql.connector\n",
    "\n",
    "mydb = mysql.connector.connect(\n",
    "  host=\"localhost\",\n",
    "  user=\"root\",\n",
    "  password=\"Kanha@8144\",\n",
    "  database=\"practiceDB\"\n",
    ")\n",
    "\n",
    "cursor = mydb.cursor()\n",
    "\n",
    "query=\" SELECT name,roll FROM studentss \"\n",
    "\n",
    "cursor.execute(query)\n",
    "result=cursor.fetchall()\n",
    "\n",
    "for x in result:\n",
    "    print(x)"
   ]
  },
  {
   "cell_type": "code",
   "execution_count": null,
   "id": "4bb73418",
   "metadata": {},
   "outputs": [],
   "source": []
  },
  {
   "cell_type": "code",
   "execution_count": null,
   "id": "022e7fed",
   "metadata": {},
   "outputs": [],
   "source": []
  },
  {
   "cell_type": "markdown",
   "id": "65ed665a",
   "metadata": {},
   "source": [
    "# WHERE Clause\n",
    "    \n",
    "    \n",
    "    The WHERE clause is used to filter records.\n",
    "\n",
    "    It is used to extract only those records that fulfill a specified condition."
   ]
  },
  {
   "cell_type": "code",
   "execution_count": 13,
   "id": "8ae81d3e",
   "metadata": {},
   "outputs": [
    {
     "data": {
      "text/plain": [
       "[(1, 'prasad', 'ctc', 40),\n",
       " (2, 'prasad', 'ctc', 40),\n",
       " (3, 'Peter', 'Lowstreet 4', 40),\n",
       " (4, 'Amy', 'Apple st 652', 60),\n",
       " (5, 'Hannah', 'Mountain 21', 90),\n",
       " (6, 'Michael', 'Valley 345', 20),\n",
       " (7, 'Sandy', 'Ocean blvd 2', 80),\n",
       " (8, 'Betty', 'Green Grass 1', 90),\n",
       " (9, 'Richard', 'Sky st 331', 45),\n",
       " (10, 'Susan', 'One way 98', 86),\n",
       " (11, 'Vicky', 'Yellow Garden 2', 93),\n",
       " (12, 'Ben', 'Park Lane 38', 48),\n",
       " (13, 'William', 'Central st 954', 89),\n",
       " (14, 'Chuck', 'Main Road 989', 67),\n",
       " (15, 'Viola', 'Sideway 1633', 93)]"
      ]
     },
     "execution_count": 13,
     "metadata": {},
     "output_type": "execute_result"
    }
   ],
   "source": [
    "import mysql.connector\n",
    "\n",
    "mydb = mysql.connector.connect(\n",
    "  host=\"localhost\",\n",
    "  user=\"root\",\n",
    "  password=\"Kanha@8144\",\n",
    "  database=\"practiceDB\"\n",
    ")\n",
    "\n",
    "cursor = mydb.cursor()\n",
    "\n",
    "query=\" SELECT * FROM student \"\n",
    "\n",
    "cursor.execute(query)\n",
    "cursor.fetchall()"
   ]
  },
  {
   "cell_type": "code",
   "execution_count": 35,
   "id": "52a65411",
   "metadata": {},
   "outputs": [
    {
     "data": {
      "text/plain": [
       "[(4, 'Amy', 'Apple st 652', 60)]"
      ]
     },
     "execution_count": 35,
     "metadata": {},
     "output_type": "execute_result"
    }
   ],
   "source": [
    "query=\"SELECT * FROM student WHERE id=4 \"\n",
    "cursor.execute(query)\n",
    "cursor.fetchall()"
   ]
  },
  {
   "cell_type": "code",
   "execution_count": 37,
   "id": "1f5eaa93",
   "metadata": {},
   "outputs": [
    {
     "data": {
      "text/plain": [
       "[(5, 'Hannah', 'Mountain 21', 90),\n",
       " (6, 'Michael', 'Valley 345', 20),\n",
       " (7, 'Sandy', 'Ocean blvd 2', 80),\n",
       " (8, 'Betty', 'Green Grass 1', 90),\n",
       " (9, 'Richard', 'Sky st 331', 45),\n",
       " (10, 'Susan', 'One way 98', 86)]"
      ]
     },
     "execution_count": 37,
     "metadata": {},
     "output_type": "execute_result"
    }
   ],
   "source": [
    "query=\"SELECT * FROM student WHERE id BETWEEN 5 AND 10 \"\n",
    "cursor.execute(query)\n",
    "cursor.fetchall()"
   ]
  },
  {
   "cell_type": "code",
   "execution_count": 43,
   "id": "9c1d3d54",
   "metadata": {},
   "outputs": [
    {
     "data": {
      "text/plain": [
       "[(7, 'Sandy', 'Ocean blvd 2', 80)]"
      ]
     },
     "execution_count": 43,
     "metadata": {},
     "output_type": "execute_result"
    }
   ],
   "source": [
    "query=\"SELECT * FROM student WHERE Name LIKE '%dy' \"\n",
    "cursor.execute(query)\n",
    "cursor.fetchall()"
   ]
  },
  {
   "cell_type": "code",
   "execution_count": 53,
   "id": "f83a3d48",
   "metadata": {},
   "outputs": [
    {
     "data": {
      "text/plain": [
       "[(4, 'Amy', 'Apple st 652', 60),\n",
       " (5, 'Hannah', 'Mountain 21', 90),\n",
       " (7, 'Sandy', 'Ocean blvd 2', 80),\n",
       " (8, 'Betty', 'Green Grass 1', 90),\n",
       " (9, 'Richard', 'Sky st 331', 45),\n",
       " (10, 'Susan', 'One way 98', 86),\n",
       " (11, 'Vicky', 'Yellow Garden 2', 93),\n",
       " (12, 'Ben', 'Park Lane 38', 48),\n",
       " (13, 'William', 'Central st 954', 89),\n",
       " (14, 'Chuck', 'Main Road 989', 67),\n",
       " (15, 'Viola', 'Sideway 1633', 93)]"
      ]
     },
     "execution_count": 53,
     "metadata": {},
     "output_type": "execute_result"
    }
   ],
   "source": [
    "query=\"SELECT * FROM student WHERE id>3 AND Mark >= 40 \"\n",
    "cursor.execute(query)\n",
    "cursor.fetchall()"
   ]
  },
  {
   "cell_type": "code",
   "execution_count": 44,
   "id": "16583d33",
   "metadata": {},
   "outputs": [
    {
     "data": {
      "text/plain": [
       "[(1, 'prasad', 'ctc', 40),\n",
       " (2, 'prasad', 'ctc', 40),\n",
       " (3, 'Peter', 'Lowstreet 4', 40),\n",
       " (4, 'Amy', 'Apple st 652', 60)]"
      ]
     },
     "execution_count": 44,
     "metadata": {},
     "output_type": "execute_result"
    }
   ],
   "source": [
    "query=\"SELECT * FROM student WHERE id IN (1,2,3,4) \"\n",
    "cursor.execute(query)\n",
    "cursor.fetchall()"
   ]
  },
  {
   "cell_type": "code",
   "execution_count": 54,
   "id": "124be782",
   "metadata": {},
   "outputs": [
    {
     "data": {
      "text/plain": [
       "[]"
      ]
     },
     "execution_count": 54,
     "metadata": {},
     "output_type": "execute_result"
    }
   ],
   "source": [
    "query=\"SELECT * FROM student WHERE id>3 AND Mark IN (30,40,50) \"\n",
    "cursor.execute(query)\n",
    "cursor.fetchall()"
   ]
  },
  {
   "cell_type": "markdown",
   "id": "f1be7a7b",
   "metadata": {},
   "source": [
    "# ORDER BY clause\n",
    "\n",
    "       OrderBy is used to arrange the result set in either ascending or descending order. By default, it is always in ascending order unless “DESC” is mentioned, which arranges it in descending order. “ASC” can also be used to explicitly arrange it in ascending order. But, it is generally not done this way since default already does that.\n",
    "       \n",
    "       \n",
    "Syntax:\n",
    "\n",
    "SELECT column1, column2\n",
    "\n",
    "FROM table_name\n",
    "\n",
    "ORDER BY column_name ASC|DESC;\n"
   ]
  },
  {
   "cell_type": "code",
   "execution_count": 46,
   "id": "ac336b7b",
   "metadata": {},
   "outputs": [
    {
     "data": {
      "text/plain": [
       "[(11, 'Vicky', 'Yellow Garden 2', 93),\n",
       " (15, 'Viola', 'Sideway 1633', 93),\n",
       " (5, 'Hannah', 'Mountain 21', 90),\n",
       " (8, 'Betty', 'Green Grass 1', 90),\n",
       " (13, 'William', 'Central st 954', 89),\n",
       " (10, 'Susan', 'One way 98', 86),\n",
       " (7, 'Sandy', 'Ocean blvd 2', 80),\n",
       " (14, 'Chuck', 'Main Road 989', 67),\n",
       " (4, 'Amy', 'Apple st 652', 60),\n",
       " (12, 'Ben', 'Park Lane 38', 48),\n",
       " (9, 'Richard', 'Sky st 331', 45),\n",
       " (1, 'prasad', 'ctc', 40),\n",
       " (2, 'prasad', 'ctc', 40),\n",
       " (3, 'Peter', 'Lowstreet 4', 40),\n",
       " (6, 'Michael', 'Valley 345', 20)]"
      ]
     },
     "execution_count": 46,
     "metadata": {},
     "output_type": "execute_result"
    }
   ],
   "source": [
    "query=\"SELECT * FROM student ORDER BY Mark DESC \"\n",
    "cursor.execute(query)\n",
    "cursor.fetchall()"
   ]
  },
  {
   "cell_type": "code",
   "execution_count": 47,
   "id": "6cd98d0f",
   "metadata": {},
   "outputs": [
    {
     "data": {
      "text/plain": [
       "[(6, 'Michael', 'Valley 345', 20),\n",
       " (1, 'prasad', 'ctc', 40),\n",
       " (2, 'prasad', 'ctc', 40),\n",
       " (3, 'Peter', 'Lowstreet 4', 40),\n",
       " (9, 'Richard', 'Sky st 331', 45),\n",
       " (12, 'Ben', 'Park Lane 38', 48),\n",
       " (4, 'Amy', 'Apple st 652', 60),\n",
       " (14, 'Chuck', 'Main Road 989', 67),\n",
       " (7, 'Sandy', 'Ocean blvd 2', 80),\n",
       " (10, 'Susan', 'One way 98', 86),\n",
       " (13, 'William', 'Central st 954', 89),\n",
       " (5, 'Hannah', 'Mountain 21', 90),\n",
       " (8, 'Betty', 'Green Grass 1', 90),\n",
       " (11, 'Vicky', 'Yellow Garden 2', 93),\n",
       " (15, 'Viola', 'Sideway 1633', 93)]"
      ]
     },
     "execution_count": 47,
     "metadata": {},
     "output_type": "execute_result"
    }
   ],
   "source": [
    "query=\"SELECT * FROM student ORDER BY Mark  \"\n",
    "cursor.execute(query)\n",
    "cursor.fetchall()"
   ]
  },
  {
   "cell_type": "code",
   "execution_count": 50,
   "id": "3b65522f",
   "metadata": {},
   "outputs": [
    {
     "data": {
      "text/plain": [
       "[(4, 'Amy', 'Apple st 652', 60),\n",
       " (12, 'Ben', 'Park Lane 38', 48),\n",
       " (8, 'Betty', 'Green Grass 1', 90),\n",
       " (14, 'Chuck', 'Main Road 989', 67),\n",
       " (5, 'Hannah', 'Mountain 21', 90),\n",
       " (6, 'Michael', 'Valley 345', 20),\n",
       " (3, 'Peter', 'Lowstreet 4', 40),\n",
       " (1, 'prasad', 'ctc', 40),\n",
       " (2, 'prasad', 'ctc', 40),\n",
       " (9, 'Richard', 'Sky st 331', 45),\n",
       " (7, 'Sandy', 'Ocean blvd 2', 80),\n",
       " (10, 'Susan', 'One way 98', 86),\n",
       " (11, 'Vicky', 'Yellow Garden 2', 93),\n",
       " (15, 'Viola', 'Sideway 1633', 93),\n",
       " (13, 'William', 'Central st 954', 89)]"
      ]
     },
     "execution_count": 50,
     "metadata": {},
     "output_type": "execute_result"
    }
   ],
   "source": [
    "query=\"SELECT * FROM student ORDER BY Name,Mark  \"\n",
    "cursor.execute(query)\n",
    "cursor.fetchall()"
   ]
  },
  {
   "cell_type": "code",
   "execution_count": 52,
   "id": "8c15bb0e",
   "metadata": {},
   "outputs": [
    {
     "data": {
      "text/plain": [
       "[(4, 'Amy', 'Apple st 652', 60),\n",
       " (12, 'Ben', 'Park Lane 38', 48),\n",
       " (8, 'Betty', 'Green Grass 1', 90),\n",
       " (14, 'Chuck', 'Main Road 989', 67),\n",
       " (5, 'Hannah', 'Mountain 21', 90),\n",
       " (6, 'Michael', 'Valley 345', 20),\n",
       " (3, 'Peter', 'Lowstreet 4', 40),\n",
       " (1, 'prasad', 'ctc', 40),\n",
       " (2, 'prasad', 'ctc', 40),\n",
       " (9, 'Richard', 'Sky st 331', 45),\n",
       " (7, 'Sandy', 'Ocean blvd 2', 80),\n",
       " (10, 'Susan', 'One way 98', 86),\n",
       " (11, 'Vicky', 'Yellow Garden 2', 93),\n",
       " (15, 'Viola', 'Sideway 1633', 93),\n",
       " (13, 'William', 'Central st 954', 89)]"
      ]
     },
     "execution_count": 52,
     "metadata": {},
     "output_type": "execute_result"
    }
   ],
   "source": [
    "query=\"SELECT * FROM student ORDER BY Name ASC , Mark DESC \"\n",
    "cursor.execute(query)\n",
    "cursor.fetchall()"
   ]
  },
  {
   "cell_type": "markdown",
   "id": "73f5993e",
   "metadata": {},
   "source": [
    "# Limit Clause\n",
    "    The Limit clause is used in SQL to control or limit the number of records in the result set returned from the query generated. By default, SQL gives out the required number of records starting from the top but it allows the use of OFFSET keyword. OFFSET allows you to start from a custom row and get the required number of result rows.\n",
    "\n",
    "Syntax:\n",
    "\n",
    "SELECT * FROM tablename LIMIT limit;\n",
    "\n",
    "SELECT * FROM tablename LIMIT limit OFFSET offset;"
   ]
  },
  {
   "cell_type": "code",
   "execution_count": 14,
   "id": "d3b8bc9c",
   "metadata": {},
   "outputs": [
    {
     "name": "stdout",
     "output_type": "stream",
     "text": [
      "(2, 'prasad', 'ctc', 40)\n",
      "(3, 'Peter', 'Lowstreet 4', 40)\n"
     ]
    }
   ],
   "source": [
    "import mysql.connector\n",
    "\n",
    "mydb = mysql.connector.connect(\n",
    "  host=\"localhost\",\n",
    "  user=\"root\",\n",
    "  password=\"Kanha@8144\",\n",
    "  database=\"practiceDB\"\n",
    ")\n",
    "\n",
    "cursor = mydb.cursor()\n",
    "  \n",
    "query = \"SELECT * FROM STUDENT LIMIT 2 OFFSET 1\"\n",
    "cursor.execute(query)\n",
    "   \n",
    "myresult = cursor.fetchall()\n",
    "   \n",
    "for x in myresult:\n",
    "    print(x)\n",
    " "
   ]
  },
  {
   "cell_type": "code",
   "execution_count": 16,
   "id": "98003341",
   "metadata": {},
   "outputs": [
    {
     "name": "stdout",
     "output_type": "stream",
     "text": [
      "(1, 'prasad', 'ctc', 40)\n",
      "(2, 'prasad', 'ctc', 40)\n",
      "(3, 'Peter', 'Lowstreet 4', 40)\n",
      "(4, 'Amy', 'Apple st 652', 60)\n",
      "(5, 'Hannah', 'Mountain 21', 90)\n"
     ]
    }
   ],
   "source": [
    "import mysql.connector\n",
    "\n",
    "mydb = mysql.connector.connect(\n",
    "  host=\"localhost\",\n",
    "  user=\"root\",\n",
    "  password=\"Kanha@8144\",\n",
    "  database=\"practiceDB\"\n",
    ")\n",
    "\n",
    "cursor = mydb.cursor()\n",
    "  \n",
    "query = \"SELECT * FROM STUDENT LIMIT 5 \"\n",
    "cursor.execute(query)\n",
    "   \n",
    "myresult = cursor.fetchall()\n",
    "   \n",
    "for x in myresult:\n",
    "    print(x)"
   ]
  },
  {
   "cell_type": "markdown",
   "id": "50e340a1",
   "metadata": {},
   "source": [
    "# Update Data\n",
    "    The update query is used to change the existing values in a database. By using update a specific value can be corrected or updated. It only affects the data and not the structure of the table. The basic advantage provided by this command is that it keeps the table accurate.\n",
    "\n",
    "    Syntax:\n",
    "\n",
    "    UPDATE tablename\n",
    "    SET =\"new value\"\n",
    "    WHERE =\"old value\";"
   ]
  },
  {
   "cell_type": "code",
   "execution_count": 17,
   "id": "4c28ffb7",
   "metadata": {},
   "outputs": [],
   "source": [
    "import mysql.connector\n",
    "\n",
    "mydb = mysql.connector.connect(\n",
    "  host=\"localhost\",\n",
    "  user=\"root\",\n",
    "  password=\"Kanha@8144\",\n",
    "  database=\"practiceDB\"\n",
    ")\n",
    "\n",
    "cursor = mydb.cursor()\n",
    "\n",
    "query = \"UPDATE studentss SET age = 23 WHERE Name ='Ram'\"\n",
    "cursor.execute(query)\n",
    "mydb.commit()"
   ]
  },
  {
   "cell_type": "code",
   "execution_count": 18,
   "id": "22347738",
   "metadata": {},
   "outputs": [
    {
     "data": {
      "text/plain": [
       "[('Ram', 'CSE', 85, 'B', 23)]"
      ]
     },
     "execution_count": 18,
     "metadata": {},
     "output_type": "execute_result"
    }
   ],
   "source": [
    "query = \"SELECT * FROM studentss WHERE Name ='Ram' \"\n",
    "cursor.execute(query)\n",
    "cursor.fetchall()"
   ]
  },
  {
   "cell_type": "markdown",
   "id": "9eadd3cd",
   "metadata": {},
   "source": [
    "# Delete Data from Table\n",
    "    We can use the Delete query to delete data from the table in MySQL.\n",
    "\n",
    "    Syntax:\n",
    "\n",
    "    DELETE FROM TABLE_NAME \n",
    "    WHERE ATTRIBUTE_NAME = ATTRIBUTE_VALUE"
   ]
  },
  {
   "cell_type": "code",
   "execution_count": 19,
   "id": "f8fddcb4",
   "metadata": {},
   "outputs": [],
   "source": [
    "import mysql.connector\n",
    "\n",
    "mydb = mysql.connector.connect(\n",
    "  host=\"localhost\",\n",
    "  user=\"root\",\n",
    "  password=\"Kanha@8144\",\n",
    "  database=\"practiceDB\"\n",
    ")\n",
    "\n",
    "cursor = mydb.cursor()\n",
    "\n",
    "query = \"DELETE FROM studentss WHERE Name ='Ram' \"\n",
    "cursor.execute(query)\n",
    "mydb.commit()"
   ]
  },
  {
   "cell_type": "code",
   "execution_count": 20,
   "id": "7e434d18",
   "metadata": {},
   "outputs": [
    {
     "data": {
      "text/plain": [
       "[('Amit', 'ECE', 24, 'A', 21),\n",
       " ('Rohan', 'MAE', 43, 'B', 20),\n",
       " ('Anil', 'MAE', 45, 'B', 20),\n",
       " ('Megha', 'ECE', 55, 'A', 22),\n",
       " ('Sita', 'CSE', 95, 'A', 19),\n",
       " ('Nikhil', 'CSE', 98, 'A', 18),\n",
       " ('Nisha', 'CSE', 99, 'A', 18)]"
      ]
     },
     "execution_count": 20,
     "metadata": {},
     "output_type": "execute_result"
    }
   ],
   "source": [
    "query = \"SELECT * FROM studentss  \"\n",
    "cursor.execute(query)\n",
    "cursor.fetchall()"
   ]
  },
  {
   "cell_type": "markdown",
   "id": "8cb48caf",
   "metadata": {},
   "source": [
    "# Drop Tables\n",
    "    Drop command affects the structure of the table and not data. It is used to delete an already existing table. For cases where you are not sure if the table to be dropped exists or not DROP TABLE IF EXISTS command is used. Both cases will be dealt with in the following examples.\n",
    "\n",
    "    Syntax:\n",
    "\n",
    "    DROP TABLE tablename;\n",
    "    DROP TABLE IF EXISTS tablename;"
   ]
  },
  {
   "cell_type": "code",
   "execution_count": 1,
   "id": "3c62d3bb",
   "metadata": {},
   "outputs": [],
   "source": [
    "import mysql.connector\n",
    "\n",
    "mydb = mysql.connector.connect(\n",
    "  host=\"localhost\",\n",
    "  user=\"root\",\n",
    "  password=\"Kanha@8144\",\n",
    "  database=\"practiceDB\"\n",
    ")\n",
    "\n",
    "cursor = mydb.cursor()\n",
    "\n",
    "query = \"DROP TABLE IF EXISTS studentss  \"\n",
    "cursor.execute(query)\n",
    "mydb.commit()"
   ]
  },
  {
   "cell_type": "code",
   "execution_count": 3,
   "id": "c19e7135",
   "metadata": {},
   "outputs": [
    {
     "data": {
      "text/plain": [
       "[('customers',),\n",
       " ('departments',),\n",
       " ('employees',),\n",
       " ('orders',),\n",
       " ('student',),\n",
       " ('table1',),\n",
       " ('table2',)]"
      ]
     },
     "execution_count": 3,
     "metadata": {},
     "output_type": "execute_result"
    }
   ],
   "source": [
    "query = \"SHOW TABLES  \"\n",
    "cursor.execute(query)\n",
    "cursor.fetchall()"
   ]
  },
  {
   "cell_type": "code",
   "execution_count": null,
   "id": "7e1df7b8",
   "metadata": {},
   "outputs": [],
   "source": []
  },
  {
   "cell_type": "code",
   "execution_count": null,
   "id": "24b75200",
   "metadata": {},
   "outputs": [],
   "source": []
  },
  {
   "cell_type": "markdown",
   "id": "084e80de",
   "metadata": {},
   "source": [
    "# SELECT Statement\n",
    "\n",
    "     The SELECT statement is used to select data from a database.\n",
    "\n",
    "     The data returned is stored in a result table, called the result-set."
   ]
  },
  {
   "cell_type": "code",
   "execution_count": 56,
   "id": "bfa1969d",
   "metadata": {},
   "outputs": [
    {
     "data": {
      "text/plain": [
       "[(1, 'prasad', 'ctc', 40),\n",
       " (2, 'prasad', 'ctc', 40),\n",
       " (3, 'Peter', 'Lowstreet 4', 40),\n",
       " (4, 'Amy', 'Apple st 652', 60),\n",
       " (5, 'Hannah', 'Mountain 21', 90),\n",
       " (6, 'Michael', 'Valley 345', 20),\n",
       " (7, 'Sandy', 'Ocean blvd 2', 80),\n",
       " (8, 'Betty', 'Green Grass 1', 90),\n",
       " (9, 'Richard', 'Sky st 331', 45),\n",
       " (10, 'Susan', 'One way 98', 86),\n",
       " (11, 'Vicky', 'Yellow Garden 2', 93),\n",
       " (12, 'Ben', 'Park Lane 38', 48),\n",
       " (13, 'William', 'Central st 954', 89),\n",
       " (14, 'Chuck', 'Main Road 989', 67),\n",
       " (15, 'Viola', 'Sideway 1633', 93)]"
      ]
     },
     "execution_count": 56,
     "metadata": {},
     "output_type": "execute_result"
    }
   ],
   "source": [
    "#select all columns\n",
    "query=\"SELECT * FROM student\"\n",
    "cursor.execute(query)\n",
    "cursor.fetchall()"
   ]
  },
  {
   "cell_type": "code",
   "execution_count": 57,
   "id": "3d231c47",
   "metadata": {},
   "outputs": [
    {
     "data": {
      "text/plain": [
       "[('prasad',),\n",
       " ('prasad',),\n",
       " ('Peter',),\n",
       " ('Amy',),\n",
       " ('Hannah',),\n",
       " ('Michael',),\n",
       " ('Sandy',),\n",
       " ('Betty',),\n",
       " ('Richard',),\n",
       " ('Susan',),\n",
       " ('Vicky',),\n",
       " ('Ben',),\n",
       " ('William',),\n",
       " ('Chuck',),\n",
       " ('Viola',)]"
      ]
     },
     "execution_count": 57,
     "metadata": {},
     "output_type": "execute_result"
    }
   ],
   "source": [
    "#select specific columns \n",
    "query=\"SELECT Name FROM student\"\n",
    "cursor.execute(query)\n",
    "cursor.fetchall()"
   ]
  },
  {
   "cell_type": "code",
   "execution_count": 55,
   "id": "de2b71ae",
   "metadata": {},
   "outputs": [
    {
     "data": {
      "text/plain": [
       "[]"
      ]
     },
     "execution_count": 55,
     "metadata": {},
     "output_type": "execute_result"
    }
   ],
   "source": [
    "QUERY=\"SELECT TOP 3 * FROM student\"\n",
    "cursor.execute(query)\n",
    "cursor.fetchall()"
   ]
  },
  {
   "cell_type": "code",
   "execution_count": 60,
   "id": "026c5d11",
   "metadata": {},
   "outputs": [
    {
     "data": {
      "text/plain": [
       "[(40,), (60,), (90,), (20,), (80,), (45,), (86,), (93,), (48,), (89,), (67,)]"
      ]
     },
     "execution_count": 60,
     "metadata": {},
     "output_type": "execute_result"
    }
   ],
   "source": [
    "#The SELECT DISTINCT statement is used to return only distinct (different) values.\n",
    "\n",
    "query=\"SELECT DISTINCT Mark FROM student\"\n",
    "cursor.execute(query)\n",
    "cursor.fetchall()"
   ]
  },
  {
   "cell_type": "code",
   "execution_count": 64,
   "id": "660e9392",
   "metadata": {},
   "outputs": [
    {
     "data": {
      "text/plain": [
       "[(11,)]"
      ]
     },
     "execution_count": 64,
     "metadata": {},
     "output_type": "execute_result"
    }
   ],
   "source": [
    "\n",
    "#total number of distnict marks\n",
    "\n",
    "query=\"SELECT count(DISTINCT Mark) FROM student\"\n",
    "cursor.execute(query)\n",
    "cursor.fetchall()"
   ]
  },
  {
   "cell_type": "code",
   "execution_count": 66,
   "id": "be886b31",
   "metadata": {},
   "outputs": [
    {
     "data": {
      "text/plain": [
       "[(20,)]"
      ]
     },
     "execution_count": 66,
     "metadata": {},
     "output_type": "execute_result"
    }
   ],
   "source": [
    "query=\"SELECT MIN(Mark) AS min_mark FROM student\"\n",
    "cursor.execute(query)\n",
    "cursor.fetchall()"
   ]
  },
  {
   "cell_type": "code",
   "execution_count": null,
   "id": "a8848b3b",
   "metadata": {},
   "outputs": [],
   "source": []
  },
  {
   "cell_type": "code",
   "execution_count": 2,
   "id": "bb4602c8",
   "metadata": {},
   "outputs": [
    {
     "data": {
      "text/plain": [
       "[('imdb',),\n",
       " ('information_schema',),\n",
       " ('mysql',),\n",
       " ('performance_schema',),\n",
       " ('practiceDB',),\n",
       " ('sys',),\n",
       " ('testDB',)]"
      ]
     },
     "execution_count": 2,
     "metadata": {},
     "output_type": "execute_result"
    }
   ],
   "source": [
    "import mysql.connector\n",
    "\n",
    "\n",
    "connection=mysql.connector.connect(\n",
    "\n",
    "    host='localhost',\n",
    "    user='root',\n",
    "    password='Kanha@8144',\n",
    "    \n",
    ")\n",
    "\n",
    "\n",
    "cursor=connection.cursor()\n",
    "\n",
    "cursor.execute(\"SHOW DATABASES\")\n",
    "cursor.fetchall()"
   ]
  },
  {
   "cell_type": "code",
   "execution_count": 3,
   "id": "3c43f593",
   "metadata": {},
   "outputs": [
    {
     "data": {
      "text/plain": [
       "[('student',)]"
      ]
     },
     "execution_count": 3,
     "metadata": {},
     "output_type": "execute_result"
    }
   ],
   "source": [
    "import mysql.connector\n",
    "\n",
    "\n",
    "connection=mysql.connector.connect(\n",
    "\n",
    "    host='localhost',\n",
    "    user='root',\n",
    "    password='Kanha@8144',\n",
    "    database=\"practiceDB\"\n",
    "    \n",
    ")\n",
    "\n",
    "\n",
    "cursor=connection.cursor()\n",
    "\n",
    "\n",
    "\n",
    "cursor.execute(\"SHOW TABLES\")\n",
    "cursor.fetchall()"
   ]
  },
  {
   "cell_type": "code",
   "execution_count": 4,
   "id": "28705a08",
   "metadata": {},
   "outputs": [
    {
     "data": {
      "text/plain": [
       "[(1, 'prasad', 'ctc', 40),\n",
       " (2, 'prasad', 'ctc', 40),\n",
       " (3, 'Peter', 'Lowstreet 4', 40),\n",
       " (4, 'Amy', 'Apple st 652', 60),\n",
       " (5, 'Hannah', 'Mountain 21', 90),\n",
       " (6, 'Michael', 'Valley 345', 20),\n",
       " (7, 'Sandy', 'Ocean blvd 2', 80),\n",
       " (8, 'Betty', 'Green Grass 1', 90),\n",
       " (9, 'Richard', 'Sky st 331', 45),\n",
       " (10, 'Susan', 'One way 98', 86),\n",
       " (11, 'Vicky', 'Yellow Garden 2', 93),\n",
       " (12, 'Ben', 'Park Lane 38', 48),\n",
       " (13, 'William', 'Central st 954', 89),\n",
       " (14, 'Chuck', 'Main Road 989', 67),\n",
       " (15, 'Viola', 'Sideway 1633', 93)]"
      ]
     },
     "execution_count": 4,
     "metadata": {},
     "output_type": "execute_result"
    }
   ],
   "source": [
    "cursor.execute(\"SELECT * FROM student\")\n",
    "cursor.fetchall()"
   ]
  },
  {
   "cell_type": "code",
   "execution_count": 5,
   "id": "acc37277",
   "metadata": {},
   "outputs": [
    {
     "data": {
      "text/plain": [
       "[(1, 'prasad'),\n",
       " (2, 'prasad'),\n",
       " (3, 'Peter'),\n",
       " (4, 'Amy'),\n",
       " (5, 'Hannah'),\n",
       " (6, 'Michael'),\n",
       " (7, 'Sandy'),\n",
       " (8, 'Betty'),\n",
       " (9, 'Richard'),\n",
       " (10, 'Susan'),\n",
       " (11, 'Vicky'),\n",
       " (12, 'Ben'),\n",
       " (13, 'William'),\n",
       " (14, 'Chuck'),\n",
       " (15, 'Viola')]"
      ]
     },
     "execution_count": 5,
     "metadata": {},
     "output_type": "execute_result"
    }
   ],
   "source": [
    "#alias for columns\n",
    "\n",
    "cursor.execute(\"SELECT id AS STUDENT_ID , Name as student_name FROM student\")\n",
    "cursor.fetchall()"
   ]
  },
  {
   "cell_type": "code",
   "execution_count": 7,
   "id": "06477328",
   "metadata": {},
   "outputs": [
    {
     "data": {
      "text/plain": [
       "[(1, 'prasad'),\n",
       " (2, 'prasad'),\n",
       " (3, 'Peter'),\n",
       " (4, 'Amy'),\n",
       " (5, 'Hannah'),\n",
       " (6, 'Michael'),\n",
       " (7, 'Sandy'),\n",
       " (8, 'Betty'),\n",
       " (9, 'Richard'),\n",
       " (10, 'Susan'),\n",
       " (11, 'Vicky'),\n",
       " (12, 'Ben'),\n",
       " (13, 'William'),\n",
       " (14, 'Chuck'),\n",
       " (15, 'Viola')]"
      ]
     },
     "execution_count": 7,
     "metadata": {},
     "output_type": "execute_result"
    }
   ],
   "source": [
    "# Single or double quotation marks are required if the alias name contains spaces:\n",
    "\n",
    "\n",
    "cursor.execute(\"SELECT id AS 'STUDENT ID' , Name as student_name FROM student\")\n",
    "cursor.fetchall()"
   ]
  },
  {
   "cell_type": "code",
   "execution_count": 3,
   "id": "ca59f0d7",
   "metadata": {},
   "outputs": [
    {
     "data": {
      "text/plain": [
       "[('student',)]"
      ]
     },
     "execution_count": 3,
     "metadata": {},
     "output_type": "execute_result"
    }
   ],
   "source": [
    "import mysql.connector\n",
    "\n",
    "\n",
    "connection=mysql.connector.connect(\n",
    "\n",
    "    host='localhost',\n",
    "    user='root',\n",
    "    password='Kanha@8144',\n",
    "    database=\"practiceDB\"\n",
    "    \n",
    ")\n",
    "\n",
    "\n",
    "cursor=connection.cursor()\n",
    "\n",
    "\n",
    "\n",
    "cursor.execute(\"SHOW TABLES\")\n",
    "cursor.fetchall()"
   ]
  },
  {
   "cell_type": "code",
   "execution_count": 4,
   "id": "fd550a4b",
   "metadata": {},
   "outputs": [],
   "source": [
    "# creating customers table \n",
    "\n",
    "query= \"\"\"CREATE TABLE customers (\n",
    "    CustomerID INT AUTO_INCREMENT PRIMARY KEY,\n",
    "    customername VARCHAR(250),\n",
    "    contactname VARCHAR(250),\n",
    "    address VARCHAR(250),\n",
    "    city VARCHAR(250),\n",
    "    postalcode INT,\n",
    "    country VARCHAR(250)\n",
    ")\n",
    "\"\"\"\n",
    "\n",
    "\n",
    "cursor.execute(query)"
   ]
  },
  {
   "cell_type": "code",
   "execution_count": 6,
   "id": "9c347e59",
   "metadata": {},
   "outputs": [],
   "source": [
    "query=\"INSERT INTO customers (customername, contactname, address, city, postalcode, country) VALUES (%s,%s,%s,%s,%s,%s) \"\n",
    "\n",
    "\n",
    "VAL=[\n",
    "    ('Customer 1', 'Contact 1', 'Address 1', 'City 1', 100001, 'Country 1'),\n",
    "    ('Customer 2', 'Contact 2', 'Address 2', 'City 2', 100002, 'Country 2'),\n",
    "    ('Customer 3', 'Contact 3', 'Address 3', 'City 3', 100003, 'Country 3'),\n",
    "    ('Customer 4', 'Contact 4', 'Address 4', 'City 4', 100004, 'Country 4'),\n",
    "    ('Customer 5', 'Contact 5', 'Address 5', 'City 5', 100005, 'Country 5'),\n",
    "    ('Customer 6', 'Contact 6', 'Address 6', 'City 6', 100006, 'Country 6'),\n",
    "    ('Customer 7', 'Contact 7', 'Address 7', 'City 7', 100007, 'Country 7'),\n",
    "    ('Customer 8', 'Contact 8', 'Address 8', 'City 8', 100008, 'Country 8'),\n",
    "    ('Customer 9', 'Contact 9', 'Address 9', 'City 9', 100009, 'Country 9'),\n",
    "    ('Customer 10', 'Contact 10', 'Address 10', 'City 10', 100010, 'Country 10')\n",
    "]\n",
    "\n",
    "\n",
    "cursor.executemany(query,VAL)\n",
    "connection.commit()\n"
   ]
  },
  {
   "cell_type": "code",
   "execution_count": 7,
   "id": "a433c01e",
   "metadata": {},
   "outputs": [],
   "source": [
    "# creating orders table\n",
    "\n",
    "query=\"\"\"\n",
    "CREATE TABLE orders (\n",
    "    OrderID INT AUTO_INCREMENT PRIMARY KEY,\n",
    "    CustomerID INT,\n",
    "    orderdate DATE,\n",
    "    totalamount DECIMAL(10, 2),\n",
    "    FOREIGN KEY (CustomerID) REFERENCES customers(CustomerID)\n",
    ")\n",
    "\"\"\"\n",
    "\n",
    "cursor.execute(query)"
   ]
  },
  {
   "cell_type": "code",
   "execution_count": null,
   "id": "e59af7e9",
   "metadata": {},
   "outputs": [],
   "source": []
  },
  {
   "cell_type": "code",
   "execution_count": 11,
   "id": "548599be",
   "metadata": {},
   "outputs": [],
   "source": [
    "query=\"\"\"\n",
    "INSERT INTO orders (CustomerID, orderdate, totalamount)\n",
    "VALUES\n",
    "    (1, '2023-01-01', 100.00),\n",
    "    (2, '2023-01-02', 150.00),\n",
    "    (3, '2023-01-03', 200.00),\n",
    "    (4, '2023-01-04', 75.00),\n",
    "    (5, '2023-01-05', 120.00),\n",
    "    (6, '2023-01-06', 80.00),\n",
    "    (7, '2023-01-07', 130.00),\n",
    "    (8, '2023-01-08', 160.00),\n",
    "    (9, '2023-01-09', 110.00),\n",
    "    (10, '2023-01-10', 90.00)\n",
    "    \n",
    "\"\"\"\n",
    "\n",
    "cursor.execute(query)\n",
    "connection.commit()"
   ]
  },
  {
   "cell_type": "code",
   "execution_count": 14,
   "id": "ec1ad1b8",
   "metadata": {},
   "outputs": [
    {
     "data": {
      "text/plain": [
       "[('customers',), ('orders',), ('student',)]"
      ]
     },
     "execution_count": 14,
     "metadata": {},
     "output_type": "execute_result"
    }
   ],
   "source": [
    "import mysql.connector\n",
    "\n",
    "\n",
    "connection=mysql.connector.connect(\n",
    "\n",
    "    host='localhost',\n",
    "    user='root',\n",
    "    password='Kanha@8144',\n",
    "    database=\"practiceDB\"\n",
    "    \n",
    ")\n",
    "\n",
    "\n",
    "cursor=connection.cursor()\n",
    "\n",
    "\n",
    "\n",
    "cursor.execute(\"SHOW TABLES\")\n",
    "cursor.fetchall()"
   ]
  },
  {
   "cell_type": "code",
   "execution_count": 15,
   "id": "ea8fe572",
   "metadata": {},
   "outputs": [
    {
     "data": {
      "text/plain": [
       "[(1, 'Customer 1', 'Contact 1', 'Address 1', 'City 1', 100001, 'Country 1'),\n",
       " (2, 'Customer 2', 'Contact 2', 'Address 2', 'City 2', 100002, 'Country 2'),\n",
       " (3, 'Customer 3', 'Contact 3', 'Address 3', 'City 3', 100003, 'Country 3'),\n",
       " (4, 'Customer 4', 'Contact 4', 'Address 4', 'City 4', 100004, 'Country 4'),\n",
       " (5, 'Customer 5', 'Contact 5', 'Address 5', 'City 5', 100005, 'Country 5'),\n",
       " (6, 'Customer 6', 'Contact 6', 'Address 6', 'City 6', 100006, 'Country 6'),\n",
       " (7, 'Customer 7', 'Contact 7', 'Address 7', 'City 7', 100007, 'Country 7'),\n",
       " (8, 'Customer 8', 'Contact 8', 'Address 8', 'City 8', 100008, 'Country 8'),\n",
       " (9, 'Customer 9', 'Contact 9', 'Address 9', 'City 9', 100009, 'Country 9'),\n",
       " (10,\n",
       "  'Customer 10',\n",
       "  'Contact 10',\n",
       "  'Address 10',\n",
       "  'City 10',\n",
       "  100010,\n",
       "  'Country 10'),\n",
       " (11, 'Customer 1', 'Contact 1', 'Address 1', 'City 1', 100001, 'Country 1'),\n",
       " (12, 'Customer 2', 'Contact 2', 'Address 2', 'City 2', 100002, 'Country 2'),\n",
       " (13, 'Customer 3', 'Contact 3', 'Address 3', 'City 3', 100003, 'Country 3'),\n",
       " (14, 'Customer 4', 'Contact 4', 'Address 4', 'City 4', 100004, 'Country 4'),\n",
       " (15, 'Customer 5', 'Contact 5', 'Address 5', 'City 5', 100005, 'Country 5'),\n",
       " (16, 'Customer 6', 'Contact 6', 'Address 6', 'City 6', 100006, 'Country 6'),\n",
       " (17, 'Customer 7', 'Contact 7', 'Address 7', 'City 7', 100007, 'Country 7'),\n",
       " (18, 'Customer 8', 'Contact 8', 'Address 8', 'City 8', 100008, 'Country 8'),\n",
       " (19, 'Customer 9', 'Contact 9', 'Address 9', 'City 9', 100009, 'Country 9'),\n",
       " (20,\n",
       "  'Customer 10',\n",
       "  'Contact 10',\n",
       "  'Address 10',\n",
       "  'City 10',\n",
       "  100010,\n",
       "  'Country 10')]"
      ]
     },
     "execution_count": 15,
     "metadata": {},
     "output_type": "execute_result"
    }
   ],
   "source": [
    "cursor.execute(\"SELECT * FROM customers\")\n",
    "cursor.fetchall()"
   ]
  },
  {
   "cell_type": "code",
   "execution_count": 16,
   "id": "23afb1ba",
   "metadata": {},
   "outputs": [
    {
     "data": {
      "text/plain": [
       "[(1, 1, datetime.date(2023, 1, 1), Decimal('100.00')),\n",
       " (2, 2, datetime.date(2023, 1, 2), Decimal('150.00')),\n",
       " (3, 3, datetime.date(2023, 1, 3), Decimal('200.00')),\n",
       " (4, 4, datetime.date(2023, 1, 4), Decimal('75.00')),\n",
       " (5, 5, datetime.date(2023, 1, 5), Decimal('120.00')),\n",
       " (6, 6, datetime.date(2023, 1, 6), Decimal('80.00')),\n",
       " (7, 7, datetime.date(2023, 1, 7), Decimal('130.00')),\n",
       " (8, 8, datetime.date(2023, 1, 8), Decimal('160.00')),\n",
       " (9, 9, datetime.date(2023, 1, 9), Decimal('110.00')),\n",
       " (10, 10, datetime.date(2023, 1, 10), Decimal('90.00'))]"
      ]
     },
     "execution_count": 16,
     "metadata": {},
     "output_type": "execute_result"
    }
   ],
   "source": [
    "cursor.execute(\"SELECT * FROM orders\")\n",
    "cursor.fetchall()"
   ]
  },
  {
   "cell_type": "markdown",
   "id": "6bd040fc",
   "metadata": {},
   "source": [
    "# MySQL Aliases\n",
    "    Aliases are used to give a table, or a column in a table, a temporary name.\n",
    "\n",
    "    Aliases are often used to make column names more readable.\n",
    "\n",
    "    An alias only exists for the duration of that query.\n",
    "\n",
    "    An alias is created with the AS keyword."
   ]
  },
  {
   "cell_type": "markdown",
   "id": "52707c31",
   "metadata": {},
   "source": [
    "## Alias for Columns "
   ]
  },
  {
   "cell_type": "code",
   "execution_count": 19,
   "id": "d7056df8",
   "metadata": {},
   "outputs": [
    {
     "data": {
      "text/plain": [
       "[(1, 'Customer 1'),\n",
       " (2, 'Customer 2'),\n",
       " (3, 'Customer 3'),\n",
       " (4, 'Customer 4'),\n",
       " (5, 'Customer 5'),\n",
       " (6, 'Customer 6'),\n",
       " (7, 'Customer 7'),\n",
       " (8, 'Customer 8'),\n",
       " (9, 'Customer 9'),\n",
       " (10, 'Customer 10'),\n",
       " (11, 'Customer 1'),\n",
       " (12, 'Customer 2'),\n",
       " (13, 'Customer 3'),\n",
       " (14, 'Customer 4'),\n",
       " (15, 'Customer 5'),\n",
       " (16, 'Customer 6'),\n",
       " (17, 'Customer 7'),\n",
       " (18, 'Customer 8'),\n",
       " (19, 'Customer 9'),\n",
       " (20, 'Customer 10')]"
      ]
     },
     "execution_count": 19,
     "metadata": {},
     "output_type": "execute_result"
    }
   ],
   "source": [
    "import mysql.connector\n",
    "\n",
    "\n",
    "connection=mysql.connector.connect(\n",
    "\n",
    "    host='localhost',\n",
    "    user='root',\n",
    "    password='Kanha@8144',\n",
    "    database=\"practiceDB\"\n",
    "    \n",
    ")\n",
    "\n",
    "\n",
    "cursor=connection.cursor()\n",
    "\n",
    "\n",
    "\n",
    "query=\"SELECT CustomerID AS ID ,CustomerName AS Customer FROM customers \"\n",
    "cursor.execute(query)\n",
    "cursor.fetchall()"
   ]
  },
  {
   "cell_type": "code",
   "execution_count": null,
   "id": "097165a8",
   "metadata": {},
   "outputs": [],
   "source": [
    "## Note: Single or double quotation marks are required if the alias name contains spaces:"
   ]
  },
  {
   "cell_type": "code",
   "execution_count": 21,
   "id": "ec51b156",
   "metadata": {},
   "outputs": [
    {
     "data": {
      "text/plain": [
       "[('Customer 1', 'Contact 1'),\n",
       " ('Customer 2', 'Contact 2'),\n",
       " ('Customer 3', 'Contact 3'),\n",
       " ('Customer 4', 'Contact 4'),\n",
       " ('Customer 5', 'Contact 5'),\n",
       " ('Customer 6', 'Contact 6'),\n",
       " ('Customer 7', 'Contact 7'),\n",
       " ('Customer 8', 'Contact 8'),\n",
       " ('Customer 9', 'Contact 9'),\n",
       " ('Customer 10', 'Contact 10'),\n",
       " ('Customer 1', 'Contact 1'),\n",
       " ('Customer 2', 'Contact 2'),\n",
       " ('Customer 3', 'Contact 3'),\n",
       " ('Customer 4', 'Contact 4'),\n",
       " ('Customer 5', 'Contact 5'),\n",
       " ('Customer 6', 'Contact 6'),\n",
       " ('Customer 7', 'Contact 7'),\n",
       " ('Customer 8', 'Contact 8'),\n",
       " ('Customer 9', 'Contact 9'),\n",
       " ('Customer 10', 'Contact 10')]"
      ]
     },
     "execution_count": 21,
     "metadata": {},
     "output_type": "execute_result"
    }
   ],
   "source": [
    "query=\"SELECT CustomerName AS Customer,ContactName AS 'Contact Peraon' FROM Customers\"\n",
    "cursor.execute(query)\n",
    "cursor.fetchall()"
   ]
  },
  {
   "cell_type": "code",
   "execution_count": 22,
   "id": "ab86431d",
   "metadata": {},
   "outputs": [
    {
     "data": {
      "text/plain": [
       "[('Customer 1', 'Address 1, 100001, City 1, Country 1'),\n",
       " ('Customer 2', 'Address 2, 100002, City 2, Country 2'),\n",
       " ('Customer 3', 'Address 3, 100003, City 3, Country 3'),\n",
       " ('Customer 4', 'Address 4, 100004, City 4, Country 4'),\n",
       " ('Customer 5', 'Address 5, 100005, City 5, Country 5'),\n",
       " ('Customer 6', 'Address 6, 100006, City 6, Country 6'),\n",
       " ('Customer 7', 'Address 7, 100007, City 7, Country 7'),\n",
       " ('Customer 8', 'Address 8, 100008, City 8, Country 8'),\n",
       " ('Customer 9', 'Address 9, 100009, City 9, Country 9'),\n",
       " ('Customer 10', 'Address 10, 100010, City 10, Country 10'),\n",
       " ('Customer 1', 'Address 1, 100001, City 1, Country 1'),\n",
       " ('Customer 2', 'Address 2, 100002, City 2, Country 2'),\n",
       " ('Customer 3', 'Address 3, 100003, City 3, Country 3'),\n",
       " ('Customer 4', 'Address 4, 100004, City 4, Country 4'),\n",
       " ('Customer 5', 'Address 5, 100005, City 5, Country 5'),\n",
       " ('Customer 6', 'Address 6, 100006, City 6, Country 6'),\n",
       " ('Customer 7', 'Address 7, 100007, City 7, Country 7'),\n",
       " ('Customer 8', 'Address 8, 100008, City 8, Country 8'),\n",
       " ('Customer 9', 'Address 9, 100009, City 9, Country 9'),\n",
       " ('Customer 10', 'Address 10, 100010, City 10, Country 10')]"
      ]
     },
     "execution_count": 22,
     "metadata": {},
     "output_type": "execute_result"
    }
   ],
   "source": [
    "query=\"SELECT CustomerName, CONCAT_WS(', ', Address, PostalCode, City, Country) AS Address FROM Customers\"\n",
    "cursor.execute(query)\n",
    "cursor.fetchall()"
   ]
  },
  {
   "cell_type": "markdown",
   "id": "e7117cba",
   "metadata": {},
   "source": [
    "## Alias for Tables"
   ]
  },
  {
   "cell_type": "code",
   "execution_count": 27,
   "id": "ba746944",
   "metadata": {},
   "outputs": [
    {
     "data": {
      "text/plain": [
       "[(6, datetime.date(2023, 1, 6), 'Customer 6')]"
      ]
     },
     "execution_count": 27,
     "metadata": {},
     "output_type": "execute_result"
    }
   ],
   "source": [
    "\n",
    "import mysql.connector\n",
    "\n",
    "\n",
    "connection=mysql.connector.connect(\n",
    "\n",
    "    host='localhost',\n",
    "    user='root',\n",
    "    password='Kanha@8144',\n",
    "    database=\"practiceDB\"\n",
    "    \n",
    ")\n",
    "\n",
    "\n",
    "cursor=connection.cursor()\n",
    "\n",
    "\n",
    "query=\"\"\"SELECT o.OrderID, o.OrderDate, c.CustomerName\n",
    "         FROM Customers AS c, Orders AS o\n",
    "         WHERE c.CustomerName='Customer 6' AND c.CustomerID=o.CustomerID\n",
    "\"\"\"\n",
    "\n",
    "cursor.execute(query)\n",
    "cursor.fetchall()"
   ]
  },
  {
   "cell_type": "code",
   "execution_count": 28,
   "id": "3d50dea6",
   "metadata": {},
   "outputs": [
    {
     "data": {
      "text/plain": [
       "[(3, datetime.date(2023, 1, 3), 'Customer 3')]"
      ]
     },
     "execution_count": 28,
     "metadata": {},
     "output_type": "execute_result"
    }
   ],
   "source": [
    "## same as above but without alias\n",
    "\n",
    "query=\"\"\"\n",
    "SELECT Orders.OrderID,Orders.OrderDate,Customers.CustomerName\n",
    "FROM Customers,Orders\n",
    "WHERE Customers.CustomerName='Customer 3'\n",
    "AND Customers.CustomerID=Orders.CustomerID\n",
    "\n",
    " \n",
    "\"\"\"\n",
    "\n",
    "cursor.execute(query)\n",
    "cursor.fetchall()"
   ]
  },
  {
   "cell_type": "code",
   "execution_count": 17,
   "id": "9cfb5e11",
   "metadata": {},
   "outputs": [
    {
     "name": "stdout",
     "output_type": "stream",
     "text": [
      "Customer: Customer 1, Order Date: 2023-01-01\n",
      "Customer: Customer 2, Order Date: 2023-01-02\n",
      "Customer: Customer 3, Order Date: 2023-01-03\n",
      "Customer: Customer 4, Order Date: 2023-01-04\n",
      "Customer: Customer 5, Order Date: 2023-01-05\n",
      "Customer: Customer 6, Order Date: 2023-01-06\n",
      "Customer: Customer 7, Order Date: 2023-01-07\n",
      "Customer: Customer 8, Order Date: 2023-01-08\n",
      "Customer: Customer 9, Order Date: 2023-01-09\n",
      "Customer: Customer 10, Order Date: 2023-01-10\n"
     ]
    }
   ],
   "source": [
    "\n",
    "\n",
    "# Define aliases for the tables\n",
    "customers_alias = \"c\"\n",
    "orders_alias = \"o\"\n",
    "\n",
    "# Construct a query with aliases\n",
    "query = f\"\"\"\n",
    "SELECT {customers_alias}.customername AS CustomerName, \n",
    "       {orders_alias}.orderdate AS OrderDate\n",
    "FROM customers AS {customers_alias}\n",
    "INNER JOIN orders AS {orders_alias}\n",
    "ON {customers_alias}.CustomerID = {orders_alias}.CustomerID;\n",
    "\"\"\"\n",
    "\n",
    "# Execute the query\n",
    "cursor.execute(query)\n",
    "\n",
    "# Fetch and print the results\n",
    "results = cursor.fetchall()\n",
    "for row in results:\n",
    "    customer_name, order_date = row\n",
    "    print(f\"Customer: {customer_name}, Order Date: {order_date}\")\n",
    "\n",
    "# Close the cursor and the database connection\n",
    "cursor.close()\n",
    "connection.close()\n"
   ]
  },
  {
   "cell_type": "markdown",
   "id": "594f4e90",
   "metadata": {},
   "source": [
    "# MySQL JOIN\n",
    "\n",
    "       A JOIN clause is used to combine rows from two or more tables, based on a related column between them.\n",
    "\n",
    "    Let's look at a selection from the \"Orders\" table:"
   ]
  },
  {
   "attachments": {
    "join-types.jpg": {
     "image/jpeg": "[encoded data removed]"
    }
   },
   "cell_type": "markdown",
   "id": "e896e881",
   "metadata": {},
   "source": [
    "![join-types.jpg](attachment:join-types.jpg)"
   ]
  },
  {
   "cell_type": "code",
   "execution_count": 29,
   "id": "d6844813",
   "metadata": {},
   "outputs": [],
   "source": [
    "import mysql.connector\n",
    "\n",
    "# Establish a database connection\n",
    "connection = mysql.connector.connect(\n",
    "    host=\"localhost\",\n",
    "    user=\"root\",\n",
    "    password=\"Kanha@8144\",\n",
    "    database=\"practiceDB\"\n",
    ")\n",
    "\n",
    "# Create a cursor object\n",
    "cursor = connection.cursor()\n",
    "\n",
    "# Create the 'employees' table\n",
    "cursor.execute(\"\"\"\n",
    "    CREATE TABLE employees (\n",
    "        EmployeeID INT AUTO_INCREMENT PRIMARY KEY,\n",
    "        FirstName VARCHAR(255),\n",
    "        LastName VARCHAR(255),\n",
    "        DepartmentID INT,\n",
    "        HireDate DATE\n",
    "    )\n",
    "\"\"\")\n",
    "\n",
    "\n",
    "connection.commit()\n",
    "\n",
    "\n"
   ]
  },
  {
   "cell_type": "code",
   "execution_count": 30,
   "id": "6427f37f",
   "metadata": {},
   "outputs": [],
   "source": [
    "# Insert data into the 'employees' table\n",
    "employees_data = [\n",
    "    (1, 'John', 'Doe', 3, '2023-01-10'),\n",
    "    (2, 'Jane', 'Smith', 2, '2023-02-15'),\n",
    "    (3, 'Bob', 'Johnson', 3, '2023-03-20'),\n",
    "    (4, 'Alice', 'Williams', 1, '2023-04-25'),\n",
    "    (5, 'Charlie', 'Brown', 3, '2023-05-30'),\n",
    "    (6, 'Ella', 'Davis', 2, '2023-06-05'),\n",
    "    (7, 'Frank', 'Lee', 4, '2023-07-10'),\n",
    "    (8, 'Grace', 'Clark', 2, '2023-08-15'),\n",
    "    (9, 'David', 'Hall', 3, '2023-09-20'),\n",
    "    (10, 'Helen', 'Martin', 1, '2023-10-25')\n",
    "]\n",
    "\n",
    "insert_employees_query = \"INSERT INTO employees (EmployeeID, FirstName, LastName, DepartmentID, HireDate) VALUES (%s, %s, %s, %s, %s)\"\n",
    "cursor.executemany(insert_employees_query, employees_data)\n",
    "connection.commit()"
   ]
  },
  {
   "cell_type": "code",
   "execution_count": 31,
   "id": "ee004603",
   "metadata": {},
   "outputs": [],
   "source": [
    "# Create the 'departments' table\n",
    "cursor.execute(\"\"\"\n",
    "    CREATE TABLE departments (\n",
    "        DepartmentID INT AUTO_INCREMENT PRIMARY KEY,\n",
    "        DepartmentName VARCHAR(255)\n",
    "    )\n",
    "\"\"\")\n",
    "\n",
    "\n",
    "connection.commit()"
   ]
  },
  {
   "cell_type": "code",
   "execution_count": 32,
   "id": "32487603",
   "metadata": {},
   "outputs": [],
   "source": [
    "\n",
    "# Insert data into the 'departments' table\n",
    "departments_data = [\n",
    "    (1, 'HR'),\n",
    "    (2, 'Sales'),\n",
    "    (3, 'Engineering'),\n",
    "    (4, 'Marketing'),\n",
    "    (5, 'Finance')\n",
    "]\n",
    "\n",
    "insert_departments_query = \"INSERT INTO departments (DepartmentID, DepartmentName) VALUES (%s, %s)\"\n",
    "cursor.executemany(insert_departments_query, departments_data)\n",
    "connection.commit()"
   ]
  },
  {
   "cell_type": "markdown",
   "id": "c6df92bd",
   "metadata": {},
   "source": [
    "## INNER JOIN:\n",
    "\n",
    "    The INNER JOIN returns only the rows that have matching values in both tables.\n",
    "\n",
    "    If there is no match for a row in one of the tables, that row will not be included in the result.\n",
    "\n",
    "    It is used to retrieve records that exist in both tables.\n",
    "    Syntax: SELECT ... FROM table1 INNER JOIN table2 ON table1.column = table2.column"
   ]
  },
  {
   "cell_type": "code",
   "execution_count": 33,
   "id": "eeb8fb07",
   "metadata": {},
   "outputs": [
    {
     "name": "stdout",
     "output_type": "stream",
     "text": [
      "Employee: John Doe, Department: Engineering\n",
      "Employee: Jane Smith, Department: Sales\n",
      "Employee: Bob Johnson, Department: Engineering\n",
      "Employee: Alice Williams, Department: HR\n",
      "Employee: Charlie Brown, Department: Engineering\n",
      "Employee: Ella Davis, Department: Sales\n",
      "Employee: Frank Lee, Department: Marketing\n",
      "Employee: Grace Clark, Department: Sales\n",
      "Employee: David Hall, Department: Engineering\n",
      "Employee: Helen Martin, Department: HR\n"
     ]
    }
   ],
   "source": [
    "import mysql.connector\n",
    "\n",
    "# Establish a database connection\n",
    "connection = mysql.connector.connect(\n",
    "    host=\"localhost\",\n",
    "    user=\"root\",\n",
    "    password=\"Kanha@8144\",\n",
    "    database=\"practiceDB\"\n",
    ")\n",
    "\n",
    "# Create a cursor object\n",
    "cursor = connection.cursor()\n",
    "\n",
    "# Perform an INNER JOIN on the 'employees' and 'departments' tables\n",
    "query = \"\"\"\n",
    "SELECT e.FirstName, e.LastName, d.DepartmentName\n",
    "FROM employees AS e\n",
    "INNER JOIN departments AS d\n",
    "ON e.DepartmentID = d.DepartmentID;\n",
    "\"\"\"\n",
    "\n",
    "# Execute the query\n",
    "cursor.execute(query)\n",
    "\n",
    "# Fetch and print the results\n",
    "results = cursor.fetchall()\n",
    "for row in results:\n",
    "    first_name, last_name, department_name = row\n",
    "    print(f\"Employee: {first_name} {last_name}, Department: {department_name}\")\n",
    "\n",
    "\n"
   ]
  },
  {
   "cell_type": "markdown",
   "id": "57caa058",
   "metadata": {},
   "source": [
    "## LEFT JOIN (or LEFT OUTER JOIN):\n",
    "\n",
    "    The LEFT JOIN returns all rows from the left table and the matched rows from the right table.\n",
    "    \n",
    "    If there is no match in the right table for a row in the left table, NULL values will be included for columns from the right table.\n",
    "    \n",
    "    It is used to retrieve all records from the left table and related records from the right table, if they exist.\n",
    "    Syntax: SELECT ... FROM table1 LEFT JOIN table2 ON table1.column = table2.column"
   ]
  },
  {
   "cell_type": "code",
   "execution_count": 34,
   "id": "eea2cedc",
   "metadata": {},
   "outputs": [
    {
     "name": "stdout",
     "output_type": "stream",
     "text": [
      "EmployeeID: 1, Name: John Doe, Department: Engineering\n",
      "EmployeeID: 2, Name: Jane Smith, Department: Sales\n",
      "EmployeeID: 3, Name: Bob Johnson, Department: Engineering\n",
      "EmployeeID: 4, Name: Alice Williams, Department: HR\n",
      "EmployeeID: 5, Name: Charlie Brown, Department: Engineering\n",
      "EmployeeID: 6, Name: Ella Davis, Department: Sales\n",
      "EmployeeID: 7, Name: Frank Lee, Department: Marketing\n",
      "EmployeeID: 8, Name: Grace Clark, Department: Sales\n",
      "EmployeeID: 9, Name: David Hall, Department: Engineering\n",
      "EmployeeID: 10, Name: Helen Martin, Department: HR\n"
     ]
    }
   ],
   "source": [
    "import mysql.connector\n",
    "\n",
    "# Establish a database connection\n",
    "connection = mysql.connector.connect(\n",
    "    host=\"localhost\",\n",
    "    user=\"root\",\n",
    "    password=\"Kanha@8144\",\n",
    "    database=\"practiceDB\"\n",
    ")\n",
    "\n",
    "# Create a cursor object\n",
    "cursor = connection.cursor()\n",
    "\n",
    "# Perform a LEFT JOIN to retrieve all employees and their departments (if available)\n",
    "query = \"\"\"\n",
    "SELECT e.EmployeeID, e.FirstName, e.LastName, d.DepartmentName\n",
    "FROM employees e\n",
    "LEFT JOIN departments d ON e.DepartmentID = d.DepartmentID;\n",
    "\"\"\"\n",
    "\n",
    "# Execute the query\n",
    "cursor.execute(query)\n",
    "\n",
    "# Fetch and print the results\n",
    "results = cursor.fetchall()\n",
    "for row in results:\n",
    "    employee_id, first_name, last_name, department_name = row\n",
    "    print(f\"EmployeeID: {employee_id}, Name: {first_name} {last_name}, Department: {department_name}\")\n",
    "\n"
   ]
  },
  {
   "cell_type": "markdown",
   "id": "857e6f3e",
   "metadata": {},
   "source": [
    "# RIGHT JOIN (or RIGHT OUTER JOIN):\n",
    "\n",
    "    The RIGHT JOIN is the reverse of the LEFT JOIN. It returns all rows from the right table and the matched rows from the left table.\n",
    "    \n",
    "    If there is no match in the left table for a row in the right table, NULL values will be included for columns from the left table.\n",
    "    \n",
    "    It is used to retrieve all records from the right table and related records from the left table, if they exist.\n",
    "    Syntax: SELECT ... FROM table1 RIGHT JOIN table2 ON table1.column = table2.column"
   ]
  },
  {
   "cell_type": "code",
   "execution_count": 35,
   "id": "fa969348",
   "metadata": {},
   "outputs": [
    {
     "name": "stdout",
     "output_type": "stream",
     "text": [
      "EmployeeID: 10, Name: Helen Martin, Department: HR\n",
      "EmployeeID: 4, Name: Alice Williams, Department: HR\n",
      "EmployeeID: 8, Name: Grace Clark, Department: Sales\n",
      "EmployeeID: 6, Name: Ella Davis, Department: Sales\n",
      "EmployeeID: 2, Name: Jane Smith, Department: Sales\n",
      "EmployeeID: 9, Name: David Hall, Department: Engineering\n",
      "EmployeeID: 5, Name: Charlie Brown, Department: Engineering\n",
      "EmployeeID: 3, Name: Bob Johnson, Department: Engineering\n",
      "EmployeeID: 1, Name: John Doe, Department: Engineering\n",
      "EmployeeID: 7, Name: Frank Lee, Department: Marketing\n",
      "EmployeeID: None, Name: None None, Department: Finance\n"
     ]
    }
   ],
   "source": [
    "import mysql.connector\n",
    "\n",
    "# Establish a database connection\n",
    "connection = mysql.connector.connect(\n",
    "    host=\"localhost\",\n",
    "    user=\"root\",\n",
    "    password=\"Kanha@8144\",\n",
    "    database=\"practiceDB\"\n",
    ")\n",
    "\n",
    "# Create a cursor object\n",
    "cursor = connection.cursor()\n",
    "\n",
    "# Perform a RIGHT JOIN to retrieve all departments and their employees (if available)\n",
    "query = \"\"\"\n",
    "SELECT e.EmployeeID, e.FirstName, e.LastName, d.DepartmentName\n",
    "FROM employees e\n",
    "RIGHT JOIN departments d ON e.DepartmentID = d.DepartmentID;\n",
    "\"\"\"\n",
    "\n",
    "# Execute the query\n",
    "cursor.execute(query)\n",
    "\n",
    "# Fetch and print the results\n",
    "results = cursor.fetchall()\n",
    "for row in results:\n",
    "    employee_id, first_name, last_name, department_name = row\n",
    "    print(f\"EmployeeID: {employee_id}, Name: {first_name} {last_name}, Department: {department_name}\")\n",
    "\n",
    "\n"
   ]
  },
  {
   "cell_type": "markdown",
   "id": "cb55f155",
   "metadata": {},
   "source": [
    "# SELF JOIN:\n",
    "\n",
    "    A SELF JOIN is used to join a table with itself. It is often used when a table contains hierarchical or related data.\n",
    "    It allows you to create relationships within a single table, for example, to find all employees and their managers.\n",
    "    \n",
    "   Syntax: SELECT ... FROM table t1 INNER JOIN table t2 ON t1.column = t2.column"
   ]
  },
  {
   "cell_type": "code",
   "execution_count": 36,
   "id": "67e8a650",
   "metadata": {},
   "outputs": [
    {
     "name": "stdout",
     "output_type": "stream",
     "text": [
      "EmployeeID: 1, Employee: John Doe, ManagerID: 9, Manager: David Hall\n",
      "EmployeeID: 1, Employee: John Doe, ManagerID: 5, Manager: Charlie Brown\n",
      "EmployeeID: 1, Employee: John Doe, ManagerID: 3, Manager: Bob Johnson\n",
      "EmployeeID: 1, Employee: John Doe, ManagerID: 1, Manager: John Doe\n",
      "EmployeeID: 2, Employee: Jane Smith, ManagerID: 8, Manager: Grace Clark\n",
      "EmployeeID: 2, Employee: Jane Smith, ManagerID: 6, Manager: Ella Davis\n",
      "EmployeeID: 2, Employee: Jane Smith, ManagerID: 2, Manager: Jane Smith\n",
      "EmployeeID: 3, Employee: Bob Johnson, ManagerID: 9, Manager: David Hall\n",
      "EmployeeID: 3, Employee: Bob Johnson, ManagerID: 5, Manager: Charlie Brown\n",
      "EmployeeID: 3, Employee: Bob Johnson, ManagerID: 3, Manager: Bob Johnson\n",
      "EmployeeID: 3, Employee: Bob Johnson, ManagerID: 1, Manager: John Doe\n",
      "EmployeeID: 4, Employee: Alice Williams, ManagerID: 10, Manager: Helen Martin\n",
      "EmployeeID: 4, Employee: Alice Williams, ManagerID: 4, Manager: Alice Williams\n",
      "EmployeeID: 5, Employee: Charlie Brown, ManagerID: 9, Manager: David Hall\n",
      "EmployeeID: 5, Employee: Charlie Brown, ManagerID: 5, Manager: Charlie Brown\n",
      "EmployeeID: 5, Employee: Charlie Brown, ManagerID: 3, Manager: Bob Johnson\n",
      "EmployeeID: 5, Employee: Charlie Brown, ManagerID: 1, Manager: John Doe\n",
      "EmployeeID: 6, Employee: Ella Davis, ManagerID: 8, Manager: Grace Clark\n",
      "EmployeeID: 6, Employee: Ella Davis, ManagerID: 6, Manager: Ella Davis\n",
      "EmployeeID: 6, Employee: Ella Davis, ManagerID: 2, Manager: Jane Smith\n",
      "EmployeeID: 7, Employee: Frank Lee, ManagerID: 7, Manager: Frank Lee\n",
      "EmployeeID: 8, Employee: Grace Clark, ManagerID: 8, Manager: Grace Clark\n",
      "EmployeeID: 8, Employee: Grace Clark, ManagerID: 6, Manager: Ella Davis\n",
      "EmployeeID: 8, Employee: Grace Clark, ManagerID: 2, Manager: Jane Smith\n",
      "EmployeeID: 9, Employee: David Hall, ManagerID: 9, Manager: David Hall\n",
      "EmployeeID: 9, Employee: David Hall, ManagerID: 5, Manager: Charlie Brown\n",
      "EmployeeID: 9, Employee: David Hall, ManagerID: 3, Manager: Bob Johnson\n",
      "EmployeeID: 9, Employee: David Hall, ManagerID: 1, Manager: John Doe\n",
      "EmployeeID: 10, Employee: Helen Martin, ManagerID: 10, Manager: Helen Martin\n",
      "EmployeeID: 10, Employee: Helen Martin, ManagerID: 4, Manager: Alice Williams\n"
     ]
    }
   ],
   "source": [
    "import mysql.connector\n",
    "\n",
    "# Establish a database connection\n",
    "connection = mysql.connector.connect(\n",
    "    host=\"localhost\",\n",
    "    user=\"root\",\n",
    "    password=\"Kanha@8144\",\n",
    "    database=\"practiceDB\"\n",
    ")\n",
    "\n",
    "# Create a cursor object\n",
    "cursor = connection.cursor()\n",
    "\n",
    "# Perform a self-join to find the manager for each employee\n",
    "query = \"\"\"\n",
    "SELECT e1.EmployeeID AS EmployeeID, e1.FirstName AS EmployeeFirstName, e1.LastName AS EmployeeLastName,\n",
    "       e2.EmployeeID AS ManagerID, e2.FirstName AS ManagerFirstName, e2.LastName AS ManagerLastName\n",
    "FROM employees e1\n",
    "LEFT JOIN employees e2 ON e1.DepartmentID = e2.DepartmentID\n",
    "\"\"\"\n",
    "\n",
    "# Execute the query\n",
    "cursor.execute(query)\n",
    "\n",
    "# Fetch and print the results\n",
    "results = cursor.fetchall()\n",
    "for row in results:\n",
    "    employee_id, employee_first_name, employee_last_name, manager_id, manager_first_name, manager_last_name = row\n",
    "    print(f\"EmployeeID: {employee_id}, Employee: {employee_first_name} {employee_last_name}, ManagerID: {manager_id}, Manager: {manager_first_name} {manager_last_name}\")\n",
    "\n",
    "\n"
   ]
  },
  {
   "cell_type": "markdown",
   "id": "8624b8ef",
   "metadata": {},
   "source": [
    "# FULL OUTER JOIN (or FULL JOIN):\n",
    "\n",
    "    The FULL OUTER JOIN returns all rows when there is a match in either the left or the right table.\n",
    "    \n",
    "    If there is no match in one of the tables, NULL values will be included for columns from that table.\n",
    "    \n",
    "    It is used to retrieve all records from both tables and combine them.\n",
    "   \n",
    "   Syntax: SELECT ... FROM table1 FULL JOIN table2 ON table1.column = table2.column"
   ]
  },
  {
   "cell_type": "code",
   "execution_count": 37,
   "id": "e7c256a6",
   "metadata": {},
   "outputs": [
    {
     "name": "stdout",
     "output_type": "stream",
     "text": [
      "EmployeeID: 1, Name: John Doe, Department: Engineering\n",
      "EmployeeID: 2, Name: Jane Smith, Department: Sales\n",
      "EmployeeID: 3, Name: Bob Johnson, Department: Engineering\n",
      "EmployeeID: 4, Name: Alice Williams, Department: HR\n",
      "EmployeeID: 5, Name: Charlie Brown, Department: Engineering\n",
      "EmployeeID: 6, Name: Ella Davis, Department: Sales\n",
      "EmployeeID: 7, Name: Frank Lee, Department: Marketing\n",
      "EmployeeID: 8, Name: Grace Clark, Department: Sales\n",
      "EmployeeID: 9, Name: David Hall, Department: Engineering\n",
      "EmployeeID: 10, Name: Helen Martin, Department: HR\n",
      "EmployeeID: None, Name: None None, Department: Finance\n"
     ]
    }
   ],
   "source": [
    "import mysql.connector\n",
    "\n",
    "\n",
    "# Establish a database connection\n",
    "connection = mysql.connector.connect(\n",
    "    host=\"localhost\",\n",
    "    user=\"root\",\n",
    "    password=\"Kanha@8144\",\n",
    "    database=\"practiceDB\"\n",
    ")\n",
    "\n",
    "# Create a cursor object\n",
    "cursor = connection.cursor()\n",
    "\n",
    "# Perform a FULL OUTER JOIN using a combination of LEFT JOIN and RIGHT JOIN\n",
    "# and then UNION the results\n",
    "query = \"\"\"\n",
    "SELECT e.EmployeeID, e.FirstName, e.LastName, d.DepartmentName\n",
    "FROM employees e\n",
    "LEFT JOIN departments d ON e.DepartmentID = d.DepartmentID\n",
    "UNION\n",
    "SELECT e.EmployeeID, e.FirstName, e.LastName, d.DepartmentName\n",
    "FROM employees e\n",
    "RIGHT JOIN departments d ON e.DepartmentID = d.DepartmentID;\n",
    "\"\"\"\n",
    "\n",
    "# Execute the query\n",
    "cursor.execute(query)\n",
    "\n",
    "# Fetch and print the results\n",
    "results = cursor.fetchall()\n",
    "for row in results:\n",
    "    employee_id, first_name, last_name, department_name = row\n",
    "    print(f\"EmployeeID: {employee_id}, Name: {first_name} {last_name}, Department: {department_name}\")\n",
    "\n",
    "\n"
   ]
  },
  {
   "cell_type": "markdown",
   "id": "7dc2d638",
   "metadata": {},
   "source": [
    "# UNION Operator\n",
    "    The UNION operator is used to combine the result-set of two or more SELECT statements.\n",
    "\n",
    "    Every SELECT statement within UNION must have the same number of columns\n",
    "    \n",
    "    The columns must also have similar data types\n",
    "    \n",
    "    The columns in every SELECT statement must also be in the same order\n"
   ]
  },
  {
   "cell_type": "markdown",
   "id": "b8e6baae",
   "metadata": {},
   "source": [
    "To perform a UNION operation in MySQL , you need two tables with similar structures. Here's an example of creating two sample tables, table1 and table2, and then performing a UNION operation to combine their data:\n",
    "\n",
    "Create the 'table1' Table:"
   ]
  },
  {
   "cell_type": "code",
   "execution_count": 38,
   "id": "bde4380f",
   "metadata": {},
   "outputs": [],
   "source": [
    "import mysql.connector\n",
    "\n",
    "# Establish a database connection\n",
    "connection = mysql.connector.connect(\n",
    "    host=\"localhost\",\n",
    "    user=\"root\",\n",
    "    password=\"Kanha@8144\",\n",
    "    database=\"practiceDB\"\n",
    ")\n",
    "\n",
    "# Create a cursor object\n",
    "cursor = connection.cursor()\n",
    "\n",
    "# Create the 'table1' table\n",
    "cursor.execute(\"\"\"\n",
    "    CREATE TABLE table1 (\n",
    "        ID INT AUTO_INCREMENT PRIMARY KEY,\n",
    "        Name VARCHAR(255),\n",
    "        City VARCHAR(255)\n",
    "    )\n",
    "\"\"\")\n",
    "\n",
    "\n",
    "connection.commit()\n",
    "\n",
    "\n"
   ]
  },
  {
   "cell_type": "code",
   "execution_count": 39,
   "id": "72141de0",
   "metadata": {},
   "outputs": [],
   "source": [
    "\n",
    "\n",
    "# Create the 'table2' table\n",
    "cursor.execute(\"\"\"\n",
    "    CREATE TABLE table2 (\n",
    "        ID INT AUTO_INCREMENT PRIMARY KEY,\n",
    "        Name VARCHAR(255),\n",
    "        City VARCHAR(255)\n",
    "    )\n",
    "\"\"\")\n",
    "\n",
    "\n",
    "connection.commit()\n",
    "\n",
    "\n"
   ]
  },
  {
   "cell_type": "code",
   "execution_count": 40,
   "id": "81e24d7c",
   "metadata": {},
   "outputs": [],
   "source": [
    "\n",
    "\n",
    "# Insert data into 'table1'\n",
    "insert_data_table1 = [\n",
    "    (1, 'Alice', 'New York'),\n",
    "    (2, 'Bob', 'Los Angeles'),\n",
    "    (3, 'Charlie', 'Chicago')\n",
    "]\n",
    "insert_query_table1 = \"INSERT INTO table1 (ID, Name, City) VALUES (%s, %s, %s)\"\n",
    "cursor.executemany(insert_query_table1, insert_data_table1)\n",
    "\n",
    "# Insert data into 'table2'\n",
    "insert_data_table2 = [\n",
    "    (1, 'David', 'San Francisco'),\n",
    "    (2, 'Ella', 'Houston'),\n",
    "    (3, 'Frank', 'Miami')\n",
    "]\n",
    "insert_query_table2 = \"INSERT INTO table2 (ID, Name, City) VALUES (%s, %s, %s)\"\n",
    "cursor.executemany(insert_query_table2, insert_data_table2)\n",
    "\n",
    "# Commit the changes\n",
    "connection.commit()\n",
    "\n",
    "\n"
   ]
  },
  {
   "cell_type": "code",
   "execution_count": 41,
   "id": "4bd20633",
   "metadata": {},
   "outputs": [
    {
     "name": "stdout",
     "output_type": "stream",
     "text": [
      "Name: Alice, City: New York\n",
      "Name: Bob, City: Los Angeles\n",
      "Name: Charlie, City: Chicago\n",
      "Name: David, City: San Francisco\n",
      "Name: Ella, City: Houston\n",
      "Name: Frank, City: Miami\n"
     ]
    }
   ],
   "source": [
    "\n",
    "\n",
    "# Perform a UNION operation to combine data from 'table1' and 'table2'\n",
    "query = \"\"\"\n",
    "SELECT Name, City FROM table1\n",
    "UNION\n",
    "SELECT Name, City FROM table2;\n",
    "\"\"\"\n",
    "\n",
    "# Execute the query\n",
    "cursor.execute(query)\n",
    "\n",
    "# Fetch and print the results\n",
    "results = cursor.fetchall()\n",
    "for row in results:\n",
    "    name, city = row\n",
    "    print(f\"Name: {name}, City: {city}\")\n",
    "\n",
    "\n"
   ]
  },
  {
   "cell_type": "code",
   "execution_count": 42,
   "id": "ebed5b9c",
   "metadata": {},
   "outputs": [
    {
     "data": {
      "text/plain": [
       "[('New York',),\n",
       " ('Los Angeles',),\n",
       " ('Chicago',),\n",
       " ('San Francisco',),\n",
       " ('Houston',),\n",
       " ('Miami',)]"
      ]
     },
     "execution_count": 42,
     "metadata": {},
     "output_type": "execute_result"
    }
   ],
   "source": [
    "query = \"\"\"\n",
    "SELECT  City FROM table1\n",
    "UNION ALL\n",
    "SELECT  City FROM table2;\n",
    "\"\"\"\n",
    "\n",
    "# Execute the query\n",
    "cursor.execute(query)\n",
    "cursor.fetchall()"
   ]
  },
  {
   "cell_type": "code",
   "execution_count": 43,
   "id": "d5953f86",
   "metadata": {},
   "outputs": [
    {
     "data": {
      "text/plain": [
       "[('New York',),\n",
       " ('Los Angeles',),\n",
       " ('Chicago',),\n",
       " ('San Francisco',),\n",
       " ('Houston',),\n",
       " ('Miami',)]"
      ]
     },
     "execution_count": 43,
     "metadata": {},
     "output_type": "execute_result"
    }
   ],
   "source": [
    "query = \"\"\"\n",
    "SELECT  City FROM table1\n",
    "UNION \n",
    "SELECT  City FROM table2;\n",
    "\"\"\"\n",
    "\n",
    "# Execute the query\n",
    "cursor.execute(query)\n",
    "cursor.fetchall()"
   ]
  },
  {
   "cell_type": "code",
   "execution_count": 44,
   "id": "03ff6757",
   "metadata": {},
   "outputs": [
    {
     "data": {
      "text/plain": [
       "[('New York', 'Alice'), ('Miami', 'Frank')]"
      ]
     },
     "execution_count": 44,
     "metadata": {},
     "output_type": "execute_result"
    }
   ],
   "source": [
    "# UNION WITH WHERE\n",
    "query = \"\"\"\n",
    "SELECT  City,Name FROM table1\n",
    "WHERE Name='Alice'\n",
    "UNION \n",
    "SELECT  City,Name FROM table2\n",
    "WHERE Name='Frank'\n",
    "\"\"\"\n",
    "\n",
    "# Execute the query\n",
    "cursor.execute(query)\n",
    "cursor.fetchall()"
   ]
  },
  {
   "cell_type": "markdown",
   "id": "9ab656b3",
   "metadata": {},
   "source": [
    "# GROUP BY Statement\n",
    "    The GROUP BY statement groups rows that have the same values into summary rows, like \"find the number of customers in each country\".\n",
    "\n",
    "    The GROUP BY statement is often used with aggregate functions (COUNT(), MAX(), MIN(), SUM(), AVG()) to group the result-set by one or more columns."
   ]
  },
  {
   "cell_type": "code",
   "execution_count": 45,
   "id": "649e6cdd",
   "metadata": {},
   "outputs": [
    {
     "data": {
      "text/plain": [
       "[('New York', 1), ('Los Angeles', 1), ('Chicago', 1)]"
      ]
     },
     "execution_count": 45,
     "metadata": {},
     "output_type": "execute_result"
    }
   ],
   "source": [
    "\n",
    "# Perform a GROUP BY operation on 'table1'\n",
    "query = \"\"\"\n",
    "SELECT City, COUNT(*) as Count\n",
    "FROM table1\n",
    "GROUP BY City;\n",
    "\"\"\"\n",
    "\n",
    "# Execute the query\n",
    "cursor.execute(query)\n",
    "\n",
    "# Fetch and print the results\n",
    "cursor.fetchall()\n"
   ]
  },
  {
   "cell_type": "code",
   "execution_count": 46,
   "id": "42c2d3e3",
   "metadata": {},
   "outputs": [
    {
     "name": "stdout",
     "output_type": "stream",
     "text": [
      "City: New York, Total People: 1\n",
      "City: Los Angeles, Total People: 1\n",
      "City: Chicago, Total People: 1\n",
      "City: San Francisco, Total People: 1\n",
      "City: Houston, Total People: 1\n",
      "City: Miami, Total People: 1\n"
     ]
    }
   ],
   "source": [
    "\n",
    "\n",
    "# Perform a GROUP BY operation to count the number of people in each city\n",
    "query = \"\"\"\n",
    "SELECT City, COUNT(*) as TotalPeople\n",
    "FROM (\n",
    "    SELECT City FROM table1\n",
    "    UNION ALL\n",
    "    SELECT City FROM table2\n",
    ") combined_tables\n",
    "GROUP BY City;\n",
    "\"\"\"\n",
    "\n",
    "# Execute the query\n",
    "cursor.execute(query)\n",
    "\n",
    "# Fetch and print the results\n",
    "results = cursor.fetchall()\n",
    "for row in results:\n",
    "    city, total_people = row\n",
    "    print(f\"City: {city}, Total People: {total_people}\")\n",
    "\n",
    "\n"
   ]
  },
  {
   "cell_type": "code",
   "execution_count": 4,
   "id": "aa36fd8d",
   "metadata": {},
   "outputs": [
    {
     "name": "stdout",
     "output_type": "stream",
     "text": [
      "[NbConvertApp] Converting notebook PYTHON_MYSQL_2.ipynb to webpdf\n",
      "[NbConvertApp] Building PDF\n",
      "[NbConvertApp] PDF successfully created\n",
      "[NbConvertApp] Writing 360730 bytes to PYTHON_MYSQL_2.pdf\n"
     ]
    }
   ],
   "source": [
    "!jupyter nbconvert --to webpdf --allow-chromium-download PYTHON_MYSQL_2.ipynb"
   ]
  },
  {
   "cell_type": "code",
   "execution_count": null,
   "id": "2496b8a6",
   "metadata": {},
   "outputs": [],
   "source": []
  }
 ],
 "metadata": {
  "kernelspec": {
   "display_name": "Python 3 (ipykernel)",
   "language": "python",
   "name": "python3"
  },
  "language_info": {
   "codemirror_mode": {
    "name": "ipython",
    "version": 3
   },
   "file_extension": ".py",
   "mimetype": "text/x-python",
   "name": "python",
   "nbconvert_exporter": "python",
   "pygments_lexer": "ipython3",
   "version": "3.11.4"
  }
 },
 "nbformat": 4,
 "nbformat_minor": 5
}
